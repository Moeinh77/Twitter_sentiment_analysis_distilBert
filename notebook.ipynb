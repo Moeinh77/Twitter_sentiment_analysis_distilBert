{
 "cells": [
  {
   "attachments": {},
   "cell_type": "markdown",
   "id": "72d91e79",
   "metadata": {
    "id": "72d91e79"
   },
   "source": [
    "### Install libraries (for colab)"
   ]
  },
  {
   "cell_type": "code",
   "execution_count": 1,
   "id": "-C_qry4zljlZ",
   "metadata": {
    "colab": {
     "base_uri": "https://localhost:8080/"
    },
    "id": "-C_qry4zljlZ",
    "outputId": "a87be047-3538-40e7-d3ac-7f709ddcb839"
   },
   "outputs": [],
   "source": [
    "# !pip install pytorch_lightning\n",
    "# !pip install transformers\n",
    "# !pip install pytorch_lightning==1.8.5"
   ]
  },
  {
   "attachments": {},
   "cell_type": "markdown",
   "id": "9c10b2c9",
   "metadata": {
    "id": "9c10b2c9"
   },
   "source": [
    "### download the data"
   ]
  },
  {
   "attachments": {},
   "cell_type": "markdown",
   "id": "441182fb",
   "metadata": {},
   "source": [
    "if you'd like you can put you kaggle token here to download the data from kaggle"
   ]
  },
  {
   "cell_type": "code",
   "execution_count": 2,
   "id": "75ec7304",
   "metadata": {
    "id": "75ec7304"
   },
   "outputs": [],
   "source": [
    "# download the data using Kaggle API from https://www.kaggle.com/datasets/jp797498e/twitter-entity-sentiment-analysis\n",
    "# !pip install kaggle\n",
    "# !mkdir .kaggle\n",
    "# import json\n",
    "# token = {\"username\":\"\",\"key\":\"\"}\n",
    "# with open('/content/.kaggle/kaggle.json', 'w') as file: #\n",
    "#     json.dump(token, file)\n",
    "# !chmod 600 /content/.kaggle/kaggle.json\n",
    "# !kaggle datasets download -d jp797498e/twitter-entity-sentiment-analysis\n",
    "# !unzip twitter-entity-sentiment-analysis.zip\n",
    "# !mkdir data\n",
    "# !mv *.csv data/"
   ]
  },
  {
   "attachments": {},
   "cell_type": "markdown",
   "id": "TzB3VoJLsFVj",
   "metadata": {
    "id": "TzB3VoJLsFVj"
   },
   "source": [
    "### Import the libraries"
   ]
  },
  {
   "cell_type": "code",
   "execution_count": 3,
   "id": "cfab3c34",
   "metadata": {
    "execution": {
     "iopub.execute_input": "2023-05-10T08:37:05.983388Z",
     "iopub.status.busy": "2023-05-10T08:37:05.982497Z",
     "iopub.status.idle": "2023-05-10T08:37:27.893194Z",
     "shell.execute_reply": "2023-05-10T08:37:27.892221Z"
    },
    "id": "cfab3c34",
    "papermill": {
     "duration": 21.92862,
     "end_time": "2023-05-10T08:37:27.896169",
     "exception": false,
     "start_time": "2023-05-10T08:37:05.967549",
     "status": "completed"
    },
    "tags": []
   },
   "outputs": [],
   "source": [
    "import pandas as pd\n",
    "import numpy as np \n",
    "import re \n",
    "import os\n",
    "import random\n",
    "import matplotlib.pyplot as plt\n",
    "import torch\n",
    "from transformers import DistilBertModel, get_linear_schedule_with_warmup\n",
    "from torch.optim import AdamW\n",
    "from transformers import DistilBertTokenizerFast\n",
    "from torch.utils.data import DataLoader\n",
    "from sklearn.metrics import accuracy_score, f1_score, confusion_matrix\n",
    "from pytorch_lightning.callbacks import ModelCheckpoint\n",
    "from sklearn.model_selection import train_test_split\n",
    "from sklearn.utils import class_weight\n",
    "from sklearn.preprocessing import LabelEncoder\n",
    "import pytorch_lightning as pl\n",
    "from pytorch_lightning.loggers import TensorBoardLogger\n",
    "from pytorch_lightning.callbacks import ModelCheckpoint\n",
    "import seaborn as sns\n",
    "\n",
    "device = torch.device(\"cuda\" if torch.cuda.is_available() else \"cpu\")\n",
    "\n",
    "# starting the tensorboard so we can see the logs while training\n",
    "%load_ext tensorboard"
   ]
  },
  {
   "cell_type": "code",
   "execution_count": 4,
   "id": "5e799d61",
   "metadata": {},
   "outputs": [],
   "source": [
    "def set_seed(random_state):\n",
    "    \"\"\"\n",
    "    Set all seeds to make results reproducible.\n",
    "    \"\"\"\n",
    "    random.seed(random_state)\n",
    "    os.environ[\"PYTHONHASHSEED\"] = str(random_state)\n",
    "    np.random.seed(random_state)\n",
    "    torch.manual_seed(random_state)\n",
    "    torch.cuda.manual_seed(random_state)\n",
    "\n",
    "set_seed(42)"
   ]
  },
  {
   "attachments": {},
   "cell_type": "markdown",
   "id": "fb4e0a14",
   "metadata": {
    "id": "fb4e0a14"
   },
   "source": [
    "### Read the data"
   ]
  },
  {
   "cell_type": "code",
   "execution_count": 5,
   "id": "79e12216",
   "metadata": {
    "colab": {
     "base_uri": "https://localhost:8080/",
     "height": 81
    },
    "id": "79e12216",
    "outputId": "53dd9ff8-891d-4431-8488-18709a8923e5"
   },
   "outputs": [
    {
     "data": {
      "text/html": [
       "<div>\n",
       "<style scoped>\n",
       "    .dataframe tbody tr th:only-of-type {\n",
       "        vertical-align: middle;\n",
       "    }\n",
       "\n",
       "    .dataframe tbody tr th {\n",
       "        vertical-align: top;\n",
       "    }\n",
       "\n",
       "    .dataframe thead th {\n",
       "        text-align: right;\n",
       "    }\n",
       "</style>\n",
       "<table border=\"1\" class=\"dataframe\">\n",
       "  <thead>\n",
       "    <tr style=\"text-align: right;\">\n",
       "      <th></th>\n",
       "      <th>2401</th>\n",
       "      <th>Borderlands</th>\n",
       "      <th>Positive</th>\n",
       "      <th>im getting on borderlands and i will murder you all ,</th>\n",
       "    </tr>\n",
       "  </thead>\n",
       "  <tbody>\n",
       "    <tr>\n",
       "      <th>0</th>\n",
       "      <td>2401</td>\n",
       "      <td>Borderlands</td>\n",
       "      <td>Positive</td>\n",
       "      <td>I am coming to the borders and I will kill you...</td>\n",
       "    </tr>\n",
       "  </tbody>\n",
       "</table>\n",
       "</div>"
      ],
      "text/plain": [
       "   2401  Borderlands  Positive  \\\n",
       "0  2401  Borderlands  Positive   \n",
       "\n",
       "  im getting on borderlands and i will murder you all ,  \n",
       "0  I am coming to the borders and I will kill you...     "
      ]
     },
     "execution_count": 5,
     "metadata": {},
     "output_type": "execute_result"
    }
   ],
   "source": [
    "pd.read_csv(\"data/twitter_training.csv\").head(1)"
   ]
  },
  {
   "cell_type": "code",
   "execution_count": 6,
   "id": "3d014bd8",
   "metadata": {
    "colab": {
     "base_uri": "https://localhost:8080/"
    },
    "execution": {
     "iopub.execute_input": "2023-05-10T08:37:27.924172Z",
     "iopub.status.busy": "2023-05-10T08:37:27.923464Z",
     "iopub.status.idle": "2023-05-10T08:37:28.216986Z",
     "shell.execute_reply": "2023-05-10T08:37:28.216055Z"
    },
    "id": "3d014bd8",
    "outputId": "beb881c8-d3ca-425c-a198-5b36b49cd754",
    "papermill": {
     "duration": 0.31034,
     "end_time": "2023-05-10T08:37:28.219802",
     "exception": false,
     "start_time": "2023-05-10T08:37:27.909462",
     "status": "completed"
    },
    "tags": []
   },
   "outputs": [
    {
     "name": "stdout",
     "output_type": "stream",
     "text": [
      "Train samples : 74682 Validation samples : 1000\n"
     ]
    }
   ],
   "source": [
    "column_names=['Tweet_ID','Entity','Sentiment','Tweet_content'] # the csv files don't have column names, so I need to add them\n",
    "\n",
    "train_df = pd.read_csv(\"data/twitter_training.csv\",\n",
    "                    sep=',',names=column_names)\n",
    "\n",
    "validation_df = pd.read_csv(\"data/twitter_validation.csv\",\n",
    "                    sep=',',names=column_names)\n",
    "\n",
    "print(f\"Train samples : {train_df.shape[0]}\", f\"Validation samples : {validation_df.shape[0]}\")"
   ]
  },
  {
   "cell_type": "code",
   "execution_count": 7,
   "id": "3a710055",
   "metadata": {
    "colab": {
     "base_uri": "https://localhost:8080/"
    },
    "id": "3a710055",
    "outputId": "a33b54a7-7f02-432f-8908-ce23bad0fd2b"
   },
   "outputs": [
    {
     "name": "stdout",
     "output_type": "stream",
     "text": [
      "Train samples : 61692 Validation samples : 828\n"
     ]
    }
   ],
   "source": [
    "# drop all the rows wit sentiment = 'irrelevant' because I don't use the entity in this project\n",
    "train_df = train_df[train_df['Sentiment'] != 'Irrelevant']\n",
    "validation_df = validation_df[validation_df['Sentiment'] != 'Irrelevant']\n",
    "print(f\"Train samples : {train_df.shape[0]}\", f\"Validation samples : {validation_df.shape[0]}\")"
   ]
  },
  {
   "attachments": {},
   "cell_type": "markdown",
   "id": "b5b24e12",
   "metadata": {
    "id": "b5b24e12"
   },
   "source": [
    "### Preprocessing the tweets"
   ]
  },
  {
   "cell_type": "code",
   "execution_count": 8,
   "id": "d8d615f0",
   "metadata": {
    "id": "d8d615f0"
   },
   "outputs": [],
   "source": [
    "def clean_text(text):\n",
    "    '''\n",
    "    Make text lowercase, and remove: links, html, new lines and multiple spaces.\n",
    "\n",
    "    Parameters\n",
    "    ----------\n",
    "    text : str\n",
    "        The text to be cleaned.\n",
    "\n",
    "    Returns\n",
    "    -------\n",
    "    text : str\n",
    "        The cleaned text.\n",
    "    '''\n",
    "    text = text.lower()\n",
    "    text = re.sub('https?://\\S+|www\\.\\S+', '', text) # remove links\n",
    "    text = re.sub('<.*?>+', '', text) # remove html\n",
    "    text = re.sub('\\n', '', text) # remove new lines\n",
    "    text = re.sub(' +', ' ', text) # remove multiple spaces\n",
    "    return text"
   ]
  },
  {
   "cell_type": "code",
   "execution_count": 9,
   "id": "a89b7918",
   "metadata": {
    "colab": {
     "base_uri": "https://localhost:8080/"
    },
    "execution": {
     "iopub.execute_input": "2023-05-10T08:37:28.401943Z",
     "iopub.status.busy": "2023-05-10T08:37:28.401196Z",
     "iopub.status.idle": "2023-05-10T08:37:28.477407Z",
     "shell.execute_reply": "2023-05-10T08:37:28.476167Z"
    },
    "id": "a89b7918",
    "outputId": "023dd88f-2756-42b9-be30-718ce166a4b7",
    "papermill": {
     "duration": 0.093548,
     "end_time": "2023-05-10T08:37:28.480509",
     "exception": false,
     "start_time": "2023-05-10T08:37:28.386961",
     "status": "completed"
    },
    "tags": []
   },
   "outputs": [
    {
     "name": "stdout",
     "output_type": "stream",
     "text": [
      "* train_df nan values per column\n",
      "Tweet_ID           0\n",
      "Entity             0\n",
      "Sentiment          0\n",
      "Tweet_content    571\n",
      "dtype: int64\n",
      "\n",
      "* validation_df nan values per column\n",
      "Tweet_ID         0\n",
      "Entity           0\n",
      "Sentiment        0\n",
      "Tweet_content    0\n",
      "dtype: int64\n",
      "\n",
      "* duplicates in train_df: 2294\n",
      "* duplicates in validation_df: 0\n"
     ]
    }
   ],
   "source": [
    "# checking nan values in train_df and validation_df datasets\n",
    "print(\"* train_df nan values per column\")\n",
    "print(train_df.isna().sum())\n",
    "print()\n",
    "print(\"* validation_df nan values per column\")\n",
    "print(validation_df.isna().sum())\n",
    "\n",
    "print()\n",
    "# checking duplicated values\n",
    "print(f\"* duplicates in train_df: {train_df.duplicated().sum()}\")\n",
    "print(f\"* duplicates in validation_df: {validation_df.duplicated().sum()}\")"
   ]
  },
  {
   "cell_type": "code",
   "execution_count": 10,
   "id": "fd8968f5",
   "metadata": {
    "colab": {
     "base_uri": "https://localhost:8080/"
    },
    "id": "fd8968f5",
    "outputId": "f2475690-c85c-4e78-9ad5-0259eae1de19"
   },
   "outputs": [
    {
     "name": "stdout",
     "output_type": "stream",
     "text": [
      "Before data cleaning: Train samples : 61692 Validation samples : 828\n",
      "After data cleaning: Train samples : 59119 Validation samples : 828\n"
     ]
    }
   ],
   "source": [
    "# cleaning the train and test datasets\n",
    "print(f\"Before data cleaning: Train samples : {train_df.shape[0]}\", f\"Validation samples : {validation_df.shape[0]}\")\n",
    "train_df.dropna(inplace=True)\n",
    "train_df.drop_duplicates(inplace=True)\n",
    "\n",
    "train_df['Tweet_content'] = train_df['Tweet_content'].apply(lambda x: clean_text(x))\n",
    "validation_df['Tweet_content'] = validation_df['Tweet_content'].apply(lambda x: clean_text(x))\n",
    "\n",
    "print(f\"After data cleaning: Train samples : {train_df.shape[0]}\", f\"Validation samples : {validation_df.shape[0]}\")"
   ]
  },
  {
   "attachments": {},
   "cell_type": "markdown",
   "id": "d366bac3",
   "metadata": {
    "id": "d366bac3"
   },
   "source": [
    "### Visualize the data"
   ]
  },
  {
   "cell_type": "code",
   "execution_count": 11,
   "id": "d7807305",
   "metadata": {
    "colab": {
     "base_uri": "https://localhost:8080/",
     "height": 336
    },
    "id": "d7807305",
    "outputId": "a9c9c292-3f6b-4b12-bd11-4ddbdc302649"
   },
   "outputs": [
    {
     "data": {
      "image/png": "[encoded data removed]",
      "text/plain": [
       "<Figure size 1440x360 with 2 Axes>"
      ]
     },
     "metadata": {
      "needs_background": "light"
     },
     "output_type": "display_data"
    }
   ],
   "source": [
    "fig, ax = plt.subplots(1, 2, figsize=(20, 5))\n",
    "\n",
    "palette = {'Negative':'#d62728', 'Positive':'#2ca02c', 'Neutral':'#ff7f0e'}# Use the same color palette for both countplots\n",
    "order = ['Negative', 'Positive', 'Neutral']\n",
    "\n",
    "sns.countplot(x='Sentiment', data=train_df, ax=ax[0], order=order, palette=palette)\n",
    "sns.countplot(x='Sentiment', data=validation_df, ax=ax[1], order=order, palette=palette)\n",
    "\n",
    "ax[0].set_title(\"Train dataset class dist\")\n",
    "ax[1].set_title(\"Validation dataset class dist\")\n",
    "\n",
    "plt.show()"
   ]
  },
  {
   "cell_type": "code",
   "execution_count": 12,
   "id": "b95aad78",
   "metadata": {
    "id": "b95aad78"
   },
   "outputs": [],
   "source": [
    "def viz_len_dist(train_df, validation_df):\n",
    "    # plotting the distribution of the text length for train and validation datasets\n",
    "    _, axes = plt.subplots(1, 2, figsize=(10, 4))\n",
    "    sns.histplot(train_df['text_len'],ax=axes[0],color='blue')\n",
    "    sns.histplot(validation_df['text_len'],ax=axes[1],color='red')\n",
    "    axes[0].set_title('Train text length distribution')\n",
    "    axes[1].set_title('Validation text length distribution')\n",
    "    plt.show()"
   ]
  },
  {
   "cell_type": "code",
   "execution_count": 13,
   "id": "333fed09",
   "metadata": {
    "id": "333fed09"
   },
   "outputs": [],
   "source": [
    "# getting the text len so later I can use it for calculating the distribution of the text length\n",
    "train_df['text_len']=train_df['Tweet_content'].apply(lambda x: len(x.split()))\n",
    "validation_df['text_len']=validation_df['Tweet_content'].apply(lambda x: len(x.split()))"
   ]
  },
  {
   "cell_type": "code",
   "execution_count": 14,
   "id": "ae99be81",
   "metadata": {
    "colab": {
     "base_uri": "https://localhost:8080/",
     "height": 410
    },
    "execution": {
     "iopub.execute_input": "2023-05-10T08:37:29.927667Z",
     "iopub.status.busy": "2023-05-10T08:37:29.926655Z",
     "iopub.status.idle": "2023-05-10T08:37:30.257689Z",
     "shell.execute_reply": "2023-05-10T08:37:30.256750Z"
    },
    "id": "ae99be81",
    "outputId": "971d00da-1743-498c-e063-d4a6039e113c",
    "papermill": {
     "duration": 0.347852,
     "end_time": "2023-05-10T08:37:30.260133",
     "exception": false,
     "start_time": "2023-05-10T08:37:29.912281",
     "status": "completed"
    },
    "tags": []
   },
   "outputs": [
    {
     "data": {
      "image/png": "[encoded data removed]",
      "text/plain": [
       "<Figure size 720x288 with 2 Axes>"
      ]
     },
     "metadata": {
      "needs_background": "light"
     },
     "output_type": "display_data"
    }
   ],
   "source": [
    "viz_len_dist(train_df, validation_df)"
   ]
  },
  {
   "cell_type": "code",
   "execution_count": 15,
   "id": "655f316d",
   "metadata": {
    "colab": {
     "base_uri": "https://localhost:8080/"
    },
    "id": "655f316d",
    "outputId": "e3343466-3a44-4022-bb99-229db6d6c667"
   },
   "outputs": [
    {
     "name": "stdout",
     "output_type": "stream",
     "text": [
      "Longest text in train_df has 198 words\n",
      "99th percentile of the text length for train_df: 59\n",
      "Outlier max len using IQR: 55\n"
     ]
    }
   ],
   "source": [
    "print(f\"Longest text in train_df has {train_df['text_len'].max()} words\")\n",
    "\n",
    "# find the percentile 99 of the text length for train_df\n",
    "percentile_99 = int(np.percentile(train_df['text_len'], 99))\n",
    "print(f\"99th percentile of the text length for train_df: {percentile_99}\")\n",
    "\n",
    "# find the outlier max len using the IQR method\n",
    "q1 = train_df['text_len'].quantile(0.25)\n",
    "q3 = train_df['text_len'].quantile(0.75)\n",
    "iqr = q3-q1 #Interquartile range\n",
    "fence_high = int(q3+1.5*iqr)\n",
    "print(f\"Outlier max len using IQR: {fence_high}\")"
   ]
  },
  {
   "cell_type": "code",
   "execution_count": 16,
   "id": "371a2109",
   "metadata": {
    "colab": {
     "base_uri": "https://localhost:8080/"
    },
    "id": "371a2109",
    "outputId": "f6ac95ba-5d1a-4ded-e119-4c57125c0300"
   },
   "outputs": [
    {
     "data": {
      "text/plain": [
       "55"
      ]
     },
     "execution_count": 16,
     "metadata": {},
     "output_type": "execute_result"
    }
   ],
   "source": [
    "seq_max_len = int(min(percentile_99, fence_high))\n",
    "seq_max_len"
   ]
  },
  {
   "cell_type": "code",
   "execution_count": 17,
   "id": "f521d514",
   "metadata": {
    "id": "f521d514"
   },
   "outputs": [],
   "source": [
    "# truncate the text length to 99 percentile for train_df and validation_df\n",
    "# this helps us with getting rid of outliers and I don't have to pad the text to the max length and include a lot of zeros\n",
    "def truncate_to_len(text, max_len):\n",
    "    '''\n",
    "    Truncates the text to the given max_len.\n",
    "    '''\n",
    "    if len(text.split()) > max_len:\n",
    "        text = \" \".join(text.split()[:max_len])\n",
    "    return text"
   ]
  },
  {
   "cell_type": "code",
   "execution_count": 18,
   "id": "61d24afe",
   "metadata": {
    "colab": {
     "base_uri": "https://localhost:8080/",
     "height": 410
    },
    "id": "61d24afe",
    "outputId": "b08b0c74-b118-4fb9-c912-19926d1b6bfa"
   },
   "outputs": [
    {
     "data": {
      "image/png": "[encoded data removed]",
      "text/plain": [
       "<Figure size 720x288 with 2 Axes>"
      ]
     },
     "metadata": {
      "needs_background": "light"
     },
     "output_type": "display_data"
    }
   ],
   "source": [
    "train_df['Tweet_content'] = train_df['Tweet_content'].apply(lambda x: truncate_to_len(x, int(seq_max_len)))\n",
    "validation_df['Tweet_content'] = validation_df['Tweet_content'].apply(lambda x: truncate_to_len(x, int(seq_max_len)))\n",
    "\n",
    "train_df['text_len']=train_df['Tweet_content'].apply(lambda x: len(x.split()))\n",
    "validation_df['text_len']=validation_df['Tweet_content'].apply(lambda x: len(x.split()))\n",
    "\n",
    "viz_len_dist(train_df, validation_df)"
   ]
  },
  {
   "cell_type": "code",
   "execution_count": 19,
   "id": "4ee9ded9",
   "metadata": {
    "colab": {
     "base_uri": "https://localhost:8080/"
    },
    "id": "4ee9ded9",
    "outputId": "69c89b45-cc25-404b-91e4-cfb199351513"
   },
   "outputs": [
    {
     "name": "stdout",
     "output_type": "stream",
     "text": [
      "Max len in train_df: 55\n"
     ]
    }
   ],
   "source": [
    "# max len in train_df and validation_df\n",
    "print(f\"Max len in train_df: {train_df['text_len'].max()}\")"
   ]
  },
  {
   "attachments": {},
   "cell_type": "markdown",
   "id": "582ad64f",
   "metadata": {
    "id": "582ad64f",
    "papermill": {
     "duration": 0.030196,
     "end_time": "2023-05-10T08:49:54.927389",
     "exception": false,
     "start_time": "2023-05-10T08:49:54.897193",
     "status": "completed"
    },
    "tags": []
   },
   "source": [
    "### Train Val Test Split"
   ]
  },
  {
   "attachments": {},
   "cell_type": "markdown",
   "id": "71c9f50b",
   "metadata": {
    "id": "71c9f50b"
   },
   "source": [
    "To create a separate test set while maintaining a reasonable size for the validation set, I allocate 15% of the training set to the validation set. By doing so, I ensure that the test set consists of data that the model has never encountered before, as it originates from the validation set. This approach helps prevent overfitting to the validation set and allows for a more reliable evaluation of the model's generalization performance."
   ]
  },
  {
   "cell_type": "code",
   "execution_count": 20,
   "id": "b5f6b1e1",
   "metadata": {
    "colab": {
     "base_uri": "https://localhost:8080/"
    },
    "execution": {
     "iopub.execute_input": "2023-05-10T08:49:54.988229Z",
     "iopub.status.busy": "2023-05-10T08:49:54.987851Z",
     "iopub.status.idle": "2023-05-10T08:49:55.034000Z",
     "shell.execute_reply": "2023-05-10T08:49:55.032927Z"
    },
    "id": "b5f6b1e1",
    "outputId": "0d137a78-010d-43d0-bc54-c500020f2791",
    "papermill": {
     "duration": 0.079133,
     "end_time": "2023-05-10T08:49:55.036621",
     "exception": false,
     "start_time": "2023-05-10T08:49:54.957488",
     "status": "completed"
    },
    "tags": []
   },
   "outputs": [
    {
     "name": "stdout",
     "output_type": "stream",
     "text": [
      "Train samples: 50251 Validation samples: 9282 Test samples: 414\n",
      "Val/Train ratio: 0.18\n",
      "Class weights: tensor([0.9082, 1.1128, 0.9997], device='cuda:0')\n"
     ]
    }
   ],
   "source": [
    "train_text, val_train_text, y_train, y_val_train = train_test_split(\n",
    "    train_df[\"Tweet_content\"],\n",
    "    train_df[\"Sentiment\"],\n",
    "    test_size=0.15,\n",
    "    random_state=42,\n",
    "    stratify=train_df[\"Sentiment\"], # making sure the class dist is the same in both splits\n",
    ")\n",
    "\n",
    "val_text, test_text, y_val, y_test = train_test_split(\n",
    "    validation_df[\"Tweet_content\"],\n",
    "    validation_df[\"Sentiment\"],\n",
    "    test_size=0.5,\n",
    "    random_state=42,\n",
    "    stratify=validation_df[\"Sentiment\"], # making sure the class dist is the same in both splits\n",
    ")\n",
    "\n",
    "val_text = pd.concat([val_train_text, val_text], axis=0)\n",
    "y_val = pd.concat([y_val_train, y_val], axis=0)\n",
    "\n",
    "# convert the text to lists\n",
    "train_text = train_text.tolist()\n",
    "val_text = val_text.tolist()\n",
    "test_text = test_text.tolist()\n",
    "\n",
    "# encode the target variable using LabelEncoder\n",
    "le = LabelEncoder()\n",
    "y_train = le.fit_transform(y_train)\n",
    "y_val = le.transform(y_val)\n",
    "y_test = le.transform(y_test)\n",
    "\n",
    "# calculating the class weights because of the class imbalance\n",
    "class_weights = class_weight.compute_class_weight(class_weight = 'balanced', classes = np.unique(y_train), y = y_train)\n",
    "class_weights = torch.tensor(class_weights, device=device, dtype=torch.float)\n",
    "\n",
    "print(f\"Train samples: {len(y_train)} Validation samples: {len(y_val)}\", f\"Test samples: {len(y_test)}\")\n",
    "print(f\"Val/Train ratio: {len(y_val)/len(y_train):.2f}\")\n",
    "print(f\"Class weights: {class_weights}\")"
   ]
  },
  {
   "attachments": {},
   "cell_type": "markdown",
   "id": "6ea97510",
   "metadata": {
    "id": "6ea97510"
   },
   "source": [
    "### Model Building"
   ]
  },
  {
   "cell_type": "code",
   "execution_count": 21,
   "id": "424ee4cb",
   "metadata": {
    "id": "424ee4cb"
   },
   "outputs": [],
   "source": [
    "class TweetDataset(torch.utils.data.Dataset):\n",
    "    \"\"\"\n",
    "    Dataset which stores the tweets and returns them as processed features\n",
    "    that can be directly fed to the model\n",
    "    \"\"\"\n",
    "\n",
    "    def __init__(self, texts, targets, tokenizer, max_len):\n",
    "        self.texts = texts\n",
    "        self.targets = targets\n",
    "        self.tokenizer = tokenizer\n",
    "        self.max_len = max_len\n",
    "    \n",
    "    def __len__(self):\n",
    "        return len(self.texts)\n",
    "    \n",
    "    def __getitem__(self, item):\n",
    "        text = str(self.texts[item])\n",
    "        target = self.targets[item]\n",
    "        encoding = self.tokenizer.encode_plus(\n",
    "            text,\n",
    "            max_length=self.max_len,\n",
    "            add_special_tokens=True,\n",
    "            return_token_type_ids=False,\n",
    "            padding= \"max_length\",\n",
    "            return_attention_mask=True,\n",
    "            return_tensors=\"pt\",\n",
    "            truncation=True\n",
    "        )\n",
    "        return dict(\n",
    "            text=text,\n",
    "            input_ids=encoding[\"input_ids\"].flatten(),\n",
    "            attention_mask=encoding[\"attention_mask\"].flatten(),\n",
    "            targets=torch.tensor(target, dtype=torch.long)\n",
    "        )"
   ]
  },
  {
   "cell_type": "code",
   "execution_count": 22,
   "id": "64a923b2",
   "metadata": {
    "id": "64a923b2"
   },
   "outputs": [],
   "source": [
    "class SentimentClassifier(pl.LightningModule):\n",
    "    def __init__(\n",
    "        self,\n",
    "        n_classes: int,\n",
    "        class_weights=None,\n",
    "        n_training_steps=None,\n",
    "        n_warmup_steps=None,\n",
    "    ):\n",
    "        super().__init__()\n",
    "        self.bert = DistilBertModel.from_pretrained(\"distilbert-base-uncased\")\n",
    "        self.pre_classifier = torch.nn.Linear(768, 768)\n",
    "        self.dropout = torch.nn.Dropout(0.3)\n",
    "        self.classifier = torch.nn.Linear(768, n_classes)\n",
    "        self.n_training_steps = n_training_steps\n",
    "        self.n_warmup_steps = n_warmup_steps\n",
    "        self.loss = torch.nn.functional.cross_entropy\n",
    "        self.class_weights = class_weights\n",
    "\n",
    "        # for retrieving the metrics in on_epoch_end\n",
    "        self.training_step_outputs = []\n",
    "        self.validation_step_outputs = []\n",
    "        self.test_step_outputs = []\n",
    "\n",
    "        # for plotting the results after training is done\n",
    "        self.train_losses, self.train_accs, self.train_f1s = [], [], []\n",
    "        self.val_losses, self.val_accs, self.val_f1s = [], [], []\n",
    "\n",
    "        # I have specified the lr manually so the tuner can change it later\n",
    "        self.lr= 2e-5\n",
    "\n",
    "    def forward(self, inp):\n",
    "        output_1 = self.bert(\n",
    "            input_ids=inp[\"input_ids\"], attention_mask=inp[\"attention_mask\"]\n",
    "        )\n",
    "        hidden_state = output_1[\n",
    "            0\n",
    "        ]  # using the last hidden state as the representation of the text\n",
    "        x = hidden_state[:, 0]\n",
    "        x = self.pre_classifier(x)\n",
    "        x = torch.nn.ReLU()(x)\n",
    "        x = self.dropout(x)\n",
    "        output = self.classifier(x)\n",
    "        output = torch.nn.functional.softmax(output, dim=1)\n",
    "        return output\n",
    "\n",
    "    def training_step(self, batch, batch_idx):\n",
    "        targets = batch[\"targets\"]\n",
    "        outputs = self(batch)\n",
    "        loss = self.loss(\n",
    "            outputs, targets, self.class_weights\n",
    "        )  # using the class weights to handle class imbalance\n",
    "        accuracy = accuracy_score(targets.cpu(), outputs.cpu().argmax(dim=1))\n",
    "        f1 = f1_score(targets.cpu(), outputs.cpu().argmax(dim=1), average=\"weighted\")\n",
    "\n",
    "        logs = {\n",
    "            \"loss\": loss,\n",
    "            \"accuracy\": torch.tensor(accuracy),\n",
    "            \"f1\": torch.tensor(f1),\n",
    "        }\n",
    "\n",
    "        self.training_step_outputs.append(logs)\n",
    "\n",
    "        return loss\n",
    "\n",
    "    def validation_step(self, batch, batch_idx):\n",
    "        targets = batch[\"targets\"]\n",
    "        outputs = self(batch)\n",
    "        loss = self.loss(\n",
    "            outputs, targets, self.class_weights\n",
    "        )  # using the class weights to handle class imbalance\n",
    "        accuracy = accuracy_score(targets.cpu(), outputs.cpu().argmax(dim=1))\n",
    "        f1 = f1_score(targets.cpu(), outputs.cpu().argmax(dim=1), average=\"weighted\")\n",
    "\n",
    "        logs = {\n",
    "            \"loss\": loss,\n",
    "            \"accuracy\": torch.tensor(accuracy),\n",
    "            \"f1\": torch.tensor(f1),\n",
    "        }\n",
    "\n",
    "        self.validation_step_outputs.append(logs)\n",
    "\n",
    "        return loss\n",
    "\n",
    "    def test_step(self, batch, batch_idx):\n",
    "        targets = batch[\"targets\"]\n",
    "        outputs = self(batch)\n",
    "        loss = self.loss(outputs, targets, self.class_weights)\n",
    "        accuracy = accuracy_score(targets.cpu(), outputs.cpu().argmax(dim=1))\n",
    "        f1 = f1_score(targets.cpu(), outputs.cpu().argmax(dim=1), average=\"weighted\")\n",
    "\n",
    "        logs = {\n",
    "            \"loss\": loss,\n",
    "            \"accuracy\": torch.tensor(accuracy),\n",
    "            \"f1\": torch.tensor(f1),\n",
    "        }\n",
    "\n",
    "        self.test_step_outputs.append(logs)\n",
    "\n",
    "        return loss\n",
    "    \n",
    "    def on_train_epoch_end(self):\n",
    "        avg_loss = torch.stack([x[\"loss\"] for x in self.training_step_outputs]).mean()\n",
    "        avg_acc = torch.stack(\n",
    "            [x[\"accuracy\"] for x in self.training_step_outputs]\n",
    "        ).mean()\n",
    "        avg_f1 = torch.stack([x[\"f1\"] for x in self.training_step_outputs]).mean()\n",
    "\n",
    "        self.log(\"train_loss\", avg_loss)\n",
    "        self.log(\"train_accuracy\", avg_acc)\n",
    "        self.log(\"train_f1_score\", avg_f1, prog_bar=True)\n",
    "        self.log(\"lr_rate\", self.trainer.optimizers[0].param_groups[0][\"lr\"], prog_bar=True)\n",
    "\n",
    "        self.train_losses.append(avg_loss.detach().cpu())\n",
    "        self.train_accs.append(avg_acc.detach().cpu())\n",
    "        self.train_f1s.append(avg_f1.detach().cpu())\n",
    "\n",
    "        self.training_step_outputs.clear()\n",
    "\n",
    "    def on_validation_epoch_end(self):\n",
    "        avg_loss = torch.stack([x[\"loss\"] for x in self.validation_step_outputs]).mean()\n",
    "        avg_acc = torch.stack(\n",
    "            [x[\"accuracy\"] for x in self.validation_step_outputs]\n",
    "        ).mean()\n",
    "        avg_f1 = torch.stack([x[\"f1\"] for x in self.validation_step_outputs]).mean()\n",
    "\n",
    "        self.log(\"val_loss\", avg_loss)\n",
    "        self.log(\"val_accuracy\", avg_acc)\n",
    "        self.log(\"val_f1_score\", avg_f1, prog_bar=True)\n",
    "\n",
    "        self.val_losses.append(avg_loss.detach().cpu())\n",
    "        self.val_accs.append(avg_acc.detach().cpu())\n",
    "        self.val_f1s.append(avg_f1.detach().cpu())\n",
    "\n",
    "        self.validation_step_outputs.clear()\n",
    "\n",
    "    def on_test_epoch_end(self):\n",
    "        avg_loss = torch.stack([x[\"loss\"] for x in self.test_step_outputs]).mean()\n",
    "        avg_acc = torch.stack([x[\"accuracy\"] for x in self.test_step_outputs]).mean()\n",
    "        avg_f1 = torch.stack([x[\"f1\"] for x in self.test_step_outputs]).mean()\n",
    "\n",
    "        self.log(\"test_loss\", avg_loss)\n",
    "        self.log(\"test_accuracy\", avg_acc)\n",
    "        self.log(\"test_f1_score\", avg_f1)\n",
    "\n",
    "        self.test_step_outputs.clear()\n",
    "\n",
    "    def configure_optimizers(self):\n",
    "        optimizer = AdamW(self.parameters(), lr=self.lr)\n",
    "        scheduler = get_linear_schedule_with_warmup(\n",
    "            optimizer,\n",
    "            num_warmup_steps=self.n_warmup_steps,\n",
    "            num_training_steps=self.n_training_steps,\n",
    "        )\n",
    "        return dict(\n",
    "            optimizer=optimizer, lr_scheduler=dict(scheduler=scheduler, interval=\"step\")\n",
    "        )\n",
    "    \n",
    "    def plot_history(self):\n",
    "        # plot the training and validation loss, accuracy and f1 score\n",
    "        fig, axes = plt.subplots(1, 3, figsize=(20, 5))\n",
    "        axes[0].plot(self.train_losses, label=\"train_loss\")\n",
    "        axes[0].plot(self.val_losses, label=\"val_loss\")\n",
    "        axes[0].set_title(\"Loss\")\n",
    "        axes[0].legend()\n",
    "\n",
    "        axes[1].plot(self.train_accs, label=\"train_accuracy\")\n",
    "        axes[1].plot(self.val_accs, label=\"val_accuracy\")\n",
    "        axes[1].set_title(\"Accuracy\")\n",
    "        axes[1].legend()\n",
    "\n",
    "        axes[2].plot(self.train_f1s, label=\"train_f1_score\")\n",
    "        axes[2].plot(self.val_f1s, label=\"val_f1_score\")\n",
    "        axes[2].set_title(\"F1 Score\")\n",
    "        axes[2].legend()\n",
    "\n",
    "        plt.show()\n"
   ]
  },
  {
   "cell_type": "code",
   "execution_count": 23,
   "id": "d0337808",
   "metadata": {},
   "outputs": [],
   "source": [
    "def get_dataloader(texts:list, labels:list, max_len:int, tokenizer, batch_size=64, shuffle=True):\n",
    "    \"\"\"\n",
    "    Returns a dataloader for the given texts and labels\n",
    "    \n",
    "    Parameters\n",
    "    ----------\n",
    "    texts : list\n",
    "        List of texts\n",
    "    labels : list\n",
    "        List of labels\n",
    "    max_len : int\n",
    "        Maximum length of the text\n",
    "    tokenizer : DistilBertTokenizerFast\n",
    "        Tokenizer to use\n",
    "    batch_size : int, optional\n",
    "        Batch size, by default 64\n",
    "    shuffle : bool, optional\n",
    "        Whether to shuffle the data, by default True\n",
    "\n",
    "    Returns\n",
    "    -------\n",
    "    DataLoader\n",
    "        Dataloader for the given texts and labels\n",
    "    \"\"\"\n",
    "\n",
    "    dataset = TweetDataset(\n",
    "        texts=texts,\n",
    "        targets=labels,\n",
    "        tokenizer=tokenizer,\n",
    "        max_len=max_len\n",
    "    )\n",
    "    dataloader = DataLoader(\n",
    "        dataset,\n",
    "        batch_size=batch_size,\n",
    "        shuffle=shuffle\n",
    "    )\n",
    "    return dataloader"
   ]
  },
  {
   "cell_type": "code",
   "execution_count": 24,
   "id": "af87c0e3",
   "metadata": {
    "colab": {
     "base_uri": "https://localhost:8080/",
     "height": 145,
     "referenced_widgets": [
      "b792527c72584b25b7bbaf84e02dd5cb",
      "9132c47bab90426ca2706b9af0361a9a",
      "978725dfd9ef4768b93a26edfd54a9a8",
      "c445af39f2814a559ce90f4ab7f4b7e6",
      "7613b0a9743d4969a5ab44880a0d3dc9",
      "82e82654358847389aaca1d53eed86fb",
      "8d4b9ab3903f4cac84c5c09e62c7de24",
      "1e7db19422c64915a607cb5ef8b10df7",
      "0573582fb34a41d0b9c6898d47f2f061",
      "afae9e1bb7ac472ca7fdd266a893fc2d",
      "d2484143ae0c4aaa8c14682cd0584a8c",
      "f2074ecd55344fa5b8f0f48177e318cb",
      "4494dc219aaf458c95e6a068a917c674",
      "0c1e91bac5b244628dd03b010898374b",
      "061dc06c1f5742c594054bf3dcde4173",
      "f1e19f4ed79743c1808566d7d59e6692",
      "cfa0a2fb47bb4228a2a6a8a000494976",
      "cd625af8b5284dfca08537be174a8154",
      "bb0dbf73cf844ba581e9f3f2b55549f5",
      "fe288d1b23294e46a7cd64f81b638547",
      "43d6d9787d664870b8af0a63751350b0",
      "d534e5bce2d34620a19e651728509f83",
      "321160b240f94f9f98e666cac36c9308",
      "bf7e2deadf0647209e481f6f7f7988ee",
      "b0c263a961da4dc69be1f4238d3f73d9",
      "22d2813dfc1142ccbbfa19f1ed0cb488",
      "d1c62c1e75084848b9bac889076268fb",
      "1474e40ab48b4e50bff66a0913173039",
      "f28be84574ff423889e2095a67419b10",
      "97c1a24c494b460c8b24a8e67120e7af",
      "25bbd5b86de547bb83e7b984d458f133",
      "44b48b97c06f4bd185b42c03134356ca",
      "0b4ad20431614dbfb155a069a5c0cc20",
      "94f358df462042c49558627f00297c8f",
      "8b3b20d5b5244a149db41aa015ea4aa1",
      "eeb21463c4d94a03b0cfb865e6ff2bc6",
      "b907eb2620a548bc8f4340ac26562887",
      "e12c0e47c8794c52a62c1f1515816ff6",
      "dc752e2726d645e4ad2668a808432718",
      "4ed1203339734553b34a0ff4c761c562",
      "234a51a69b9640a5b9bc50b6e92a63e4",
      "306c7674a76b44d49db89e9f9dd0f1ea",
      "33e9fbf30e8a48519e2110aaa6f9a1fb",
      "26d2cfc4b922471c972862beb607d089"
     ]
    },
    "id": "af87c0e3",
    "outputId": "ebd6200b-f2dd-43c8-d874-dc8ed1453a39"
   },
   "outputs": [],
   "source": [
    "tokenizer = DistilBertTokenizerFast.from_pretrained(\"distilbert-base-uncased\")\n",
    "\n",
    "train_dataloader = get_dataloader(train_text, y_train, seq_max_len, tokenizer, shuffle=True)\n",
    "val_dataloader = get_dataloader(val_text, y_val, seq_max_len, tokenizer, shuffle=False)\n",
    "test_dataloader = get_dataloader(test_text, y_test, seq_max_len, tokenizer, shuffle=False)"
   ]
  },
  {
   "cell_type": "code",
   "execution_count": 25,
   "id": "c4844c00",
   "metadata": {
    "id": "c4844c00"
   },
   "outputs": [],
   "source": [
    "tb_logger = TensorBoardLogger(\"logs/\")\n",
    "\n",
    "chkpt_callback = ModelCheckpoint(\n",
    "    dirpath=\"checkpoints/\",\n",
    "    filename=\"best-checkpoint\",\n",
    "    save_top_k=1,\n",
    "    verbose=False,\n",
    "    monitor=\"val_f1_score\",\n",
    "    mode=\"max\",\n",
    "    save_weights_only=True\n",
    ")"
   ]
  },
  {
   "cell_type": "code",
   "execution_count": 26,
   "id": "fca880b7",
   "metadata": {
    "colab": {
     "base_uri": "https://localhost:8080/",
     "height": 208,
     "referenced_widgets": [
      "e810e543a49b4d08a232e6f39f3d7049",
      "e42286c79df943a1b3d88031ee779e50",
      "2162395db0a149fcad421ea821985dd9",
      "9141118b200e4e64b093ce7bc637c8ef",
      "720ec0b006e14210b79290f884e389e7",
      "7a567d45a67647189bfc4a0559eb5c09",
      "7f0940f1a3d1467e849c84be36fe5184",
      "b94e0503d8ed4e95a40a2fc8b90f70e7",
      "9976a164252f422e8292af731c9d665c",
      "24de9df4b4ce4f57ac2f6b953f2e645a",
      "b4cb66f22af24b2394a80fdbe0d0543f"
     ]
    },
    "id": "fca880b7",
    "outputId": "7eb3e3ff-f12d-441b-de07-9e0da4babff1"
   },
   "outputs": [
    {
     "name": "stderr",
     "output_type": "stream",
     "text": [
      "Some weights of the model checkpoint at distilbert-base-uncased were not used when initializing DistilBertModel: ['vocab_transform.weight', 'vocab_projector.bias', 'vocab_layer_norm.bias', 'vocab_projector.weight', 'vocab_layer_norm.weight', 'vocab_transform.bias']\n",
      "- This IS expected if you are initializing DistilBertModel from the checkpoint of a model trained on another task or with another architecture (e.g. initializing a BertForSequenceClassification model from a BertForPreTraining model).\n",
      "- This IS NOT expected if you are initializing DistilBertModel from the checkpoint of a model that you expect to be exactly identical (initializing a BertForSequenceClassification model from a BertForSequenceClassification model).\n",
      "GPU available: True (cuda), used: True\n",
      "TPU available: False, using: 0 TPU cores\n",
      "IPU available: False, using: 0 IPUs\n",
      "HPU available: False, using: 0 HPUs\n"
     ]
    }
   ],
   "source": [
    "# training the model\n",
    "epochs = 10\n",
    "n_classes = np.unique(y_train).shape[0]\n",
    "n_training_steps = len(train_dataloader) * epochs # total number of training steps\n",
    "n_warmup_steps = n_training_steps // 10 # 10% of train data for warm-up\n",
    "\n",
    "model = SentimentClassifier(\n",
    "    n_classes=n_classes,\n",
    "    class_weights=class_weights,\n",
    "    n_training_steps=n_training_steps,\n",
    "    n_warmup_steps=n_warmup_steps,\n",
    ")\n",
    "\n",
    "trainer = pl.Trainer(\n",
    "    accelerator=\"gpu\",\n",
    "    devices=1,\n",
    "    max_epochs=epochs,\n",
    "    callbacks=[\n",
    "        chkpt_callback,\n",
    "    ],\n",
    "    logger=tb_logger,\n",
    "    enable_progress_bar=True,\n",
    "    enable_model_summary=False,\n",
    "    # overfit_batches=1,\n",
    "    auto_lr_find = True\n",
    ")"
   ]
  },
  {
   "cell_type": "code",
   "execution_count": 27,
   "id": "dfd2f9fc",
   "metadata": {
    "colab": {
     "base_uri": "https://localhost:8080/",
     "height": 141,
     "referenced_widgets": [
      "0a67a219240e460595083a1ed1121a39",
      "7b650b53835747d78f6bdf05d2c9754e",
      "5dc7d1c055d944cdb242797478718aa3",
      "8a4b8d6bbf9b46dcb76f1c67255ab684",
      "e4213efd16bc4b7da815e57630734cee",
      "17372e6103ce4af6a5f7e02974efd653",
      "d009871688f043fd8a5ed62b8066fbbe",
      "92c464a25eb149cd8b35616d691203ce",
      "237c6ce0dd1944369a600ba8dd71eae2",
      "6825fbbc4aed4e5ca6890aa33c8bd507",
      "7ae2766218f64c3a8576f41afb8559de"
     ]
    },
    "id": "dfd2f9fc",
    "outputId": "62cb6559-e3cc-4799-a5ae-9fa6eeafc205",
    "scrolled": true
   },
   "outputs": [
    {
     "name": "stderr",
     "output_type": "stream",
     "text": [
      "/home/jlw742/pytorch/lib/python3.9/site-packages/pytorch_lightning/callbacks/model_checkpoint.py:604: UserWarning: Checkpoint directory /home/jlw742/projects/in_progress/twitter_sentiment_analysis_Bert/checkpoints exists and is not empty.\n",
      "  rank_zero_warn(f\"Checkpoint directory {dirpath} exists and is not empty.\")\n",
      "LOCAL_RANK: 0 - CUDA_VISIBLE_DEVICES: [0]\n",
      "/home/jlw742/pytorch/lib/python3.9/site-packages/pytorch_lightning/trainer/connectors/data_connector.py:224: PossibleUserWarning: The dataloader, train_dataloader, does not have many workers which may be a bottleneck. Consider increasing the value of the `num_workers` argument` (try 32 which is the number of cpus on this machine) in the `DataLoader` init to improve performance.\n",
      "  rank_zero_warn(\n",
      "/home/jlw742/pytorch/lib/python3.9/site-packages/pytorch_lightning/trainer/connectors/data_connector.py:224: PossibleUserWarning: The dataloader, val_dataloader 0, does not have many workers which may be a bottleneck. Consider increasing the value of the `num_workers` argument` (try 32 which is the number of cpus on this machine) in the `DataLoader` init to improve performance.\n",
      "  rank_zero_warn(\n"
     ]
    },
    {
     "data": {
      "application/vnd.jupyter.widget-view+json": {
       "model_id": "25fd42d66bb248feb03a17f2c42bd02c",
       "version_major": 2,
       "version_minor": 0
      },
      "text/plain": [
       "Finding best initial lr:   0%|          | 0/100 [00:00<?, ?it/s]"
      ]
     },
     "metadata": {},
     "output_type": "display_data"
    },
    {
     "name": "stderr",
     "output_type": "stream",
     "text": [
      "`Trainer.fit` stopped: `max_steps=100` reached.\n",
      "Learning rate set to 1.798909833250475e-05\n",
      "Restoring states from the checkpoint path at /home/jlw742/projects/in_progress/twitter_sentiment_analysis_Bert/.lr_find_71aa3f6e-8844-4a82-97b6-64528a2c200d.ckpt\n",
      "Restored all states from the checkpoint file at /home/jlw742/projects/in_progress/twitter_sentiment_analysis_Bert/.lr_find_71aa3f6e-8844-4a82-97b6-64528a2c200d.ckpt\n",
      "/home/jlw742/pytorch/lib/python3.9/site-packages/pytorch_lightning/callbacks/model_checkpoint.py:604: UserWarning: Checkpoint directory /home/jlw742/projects/in_progress/twitter_sentiment_analysis_Bert/checkpoints exists and is not empty.\n",
      "  rank_zero_warn(f\"Checkpoint directory {dirpath} exists and is not empty.\")\n",
      "LOCAL_RANK: 0 - CUDA_VISIBLE_DEVICES: [0]\n"
     ]
    },
    {
     "data": {
      "application/vnd.jupyter.widget-view+json": {
       "model_id": "250ad689a9734617a81acf397a943b18",
       "version_major": 2,
       "version_minor": 0
      },
      "text/plain": [
       "Sanity Checking: 0it [00:00, ?it/s]"
      ]
     },
     "metadata": {},
     "output_type": "display_data"
    },
    {
     "name": "stderr",
     "output_type": "stream",
     "text": [
      "/home/jlw742/pytorch/lib/python3.9/site-packages/pytorch_lightning/trainer/connectors/data_connector.py:224: PossibleUserWarning: The dataloader, val_dataloader 0, does not have many workers which may be a bottleneck. Consider increasing the value of the `num_workers` argument` (try 32 which is the number of cpus on this machine) in the `DataLoader` init to improve performance.\n",
      "  rank_zero_warn(\n",
      "/home/jlw742/pytorch/lib/python3.9/site-packages/pytorch_lightning/trainer/connectors/data_connector.py:224: PossibleUserWarning: The dataloader, train_dataloader, does not have many workers which may be a bottleneck. Consider increasing the value of the `num_workers` argument` (try 32 which is the number of cpus on this machine) in the `DataLoader` init to improve performance.\n",
      "  rank_zero_warn(\n"
     ]
    },
    {
     "data": {
      "application/vnd.jupyter.widget-view+json": {
       "model_id": "f75f20e652094fd888d56778c1e8e072",
       "version_major": 2,
       "version_minor": 0
      },
      "text/plain": [
       "Training: 0it [00:00, ?it/s]"
      ]
     },
     "metadata": {},
     "output_type": "display_data"
    },
    {
     "data": {
      "application/vnd.jupyter.widget-view+json": {
       "model_id": "8977cb7e123e41dea91bb0a10d20a50e",
       "version_major": 2,
       "version_minor": 0
      },
      "text/plain": [
       "Validation: 0it [00:00, ?it/s]"
      ]
     },
     "metadata": {},
     "output_type": "display_data"
    },
    {
     "data": {
      "application/vnd.jupyter.widget-view+json": {
       "model_id": "40d4d5a42658487ea6eb92505ee2841e",
       "version_major": 2,
       "version_minor": 0
      },
      "text/plain": [
       "Validation: 0it [00:00, ?it/s]"
      ]
     },
     "metadata": {},
     "output_type": "display_data"
    },
    {
     "data": {
      "application/vnd.jupyter.widget-view+json": {
       "model_id": "5b26a39c1c39477a998474be7868d8e6",
       "version_major": 2,
       "version_minor": 0
      },
      "text/plain": [
       "Validation: 0it [00:00, ?it/s]"
      ]
     },
     "metadata": {},
     "output_type": "display_data"
    },
    {
     "data": {
      "application/vnd.jupyter.widget-view+json": {
       "model_id": "e45f67d1cc124cddac7e84eeb67212be",
       "version_major": 2,
       "version_minor": 0
      },
      "text/plain": [
       "Validation: 0it [00:00, ?it/s]"
      ]
     },
     "metadata": {},
     "output_type": "display_data"
    },
    {
     "data": {
      "application/vnd.jupyter.widget-view+json": {
       "model_id": "54859c92adfb49518f2dab3cd15f9a61",
       "version_major": 2,
       "version_minor": 0
      },
      "text/plain": [
       "Validation: 0it [00:00, ?it/s]"
      ]
     },
     "metadata": {},
     "output_type": "display_data"
    },
    {
     "data": {
      "application/vnd.jupyter.widget-view+json": {
       "model_id": "4d20d9cf3dba4132b4ee8ec970f7f2b0",
       "version_major": 2,
       "version_minor": 0
      },
      "text/plain": [
       "Validation: 0it [00:00, ?it/s]"
      ]
     },
     "metadata": {},
     "output_type": "display_data"
    },
    {
     "data": {
      "application/vnd.jupyter.widget-view+json": {
       "model_id": "2cc3618192b043c9811ac2914ddbf774",
       "version_major": 2,
       "version_minor": 0
      },
      "text/plain": [
       "Validation: 0it [00:00, ?it/s]"
      ]
     },
     "metadata": {},
     "output_type": "display_data"
    },
    {
     "data": {
      "application/vnd.jupyter.widget-view+json": {
       "model_id": "237654868899448fa3b560ad70f0628a",
       "version_major": 2,
       "version_minor": 0
      },
      "text/plain": [
       "Validation: 0it [00:00, ?it/s]"
      ]
     },
     "metadata": {},
     "output_type": "display_data"
    },
    {
     "data": {
      "application/vnd.jupyter.widget-view+json": {
       "model_id": "1594284d168c4b80b5c8a398e90c28a2",
       "version_major": 2,
       "version_minor": 0
      },
      "text/plain": [
       "Validation: 0it [00:00, ?it/s]"
      ]
     },
     "metadata": {},
     "output_type": "display_data"
    },
    {
     "data": {
      "application/vnd.jupyter.widget-view+json": {
       "model_id": "45bc6ecb90b84a5f923efbedb0fee0ea",
       "version_major": 2,
       "version_minor": 0
      },
      "text/plain": [
       "Validation: 0it [00:00, ?it/s]"
      ]
     },
     "metadata": {},
     "output_type": "display_data"
    },
    {
     "name": "stderr",
     "output_type": "stream",
     "text": [
      "`Trainer.fit` stopped: `max_epochs=10` reached.\n"
     ]
    }
   ],
   "source": [
    "trainer.tune(model, train_dataloader, val_dataloader, lr_find_kwargs={\"min_lr\":1e-7, \"max_lr\": 2e-5}) # find the optimal learning rate\n",
    "trainer.fit(model, train_dataloader, val_dataloader)"
   ]
  },
  {
   "cell_type": "code",
   "execution_count": 29,
   "id": "914143f9",
   "metadata": {},
   "outputs": [
    {
     "data": {
      "image/png": "[encoded data removed]",
      "text/plain": [
       "<Figure size 1440x360 with 3 Axes>"
      ]
     },
     "metadata": {
      "needs_background": "light"
     },
     "output_type": "display_data"
    }
   ],
   "source": [
    "# I plot the training history here, in case tensorboard didn't work on colab for you\n",
    "model.plot_history()"
   ]
  },
  {
   "attachments": {},
   "cell_type": "markdown",
   "id": "ae3f2843",
   "metadata": {},
   "source": [
    "model is suffering from a bit of overfitting, it would probably perform better If I add weight decay and increase the dropout rate. But for the sake of this test project, I will leave it as it is."
   ]
  },
  {
   "cell_type": "code",
   "execution_count": 40,
   "id": "770d65c0",
   "metadata": {
    "colab": {
     "base_uri": "https://localhost:8080/",
     "height": 230,
     "referenced_widgets": [
      "b8a8939540eb4f49965286f5797639a1",
      "a5135e2502d94ef4940a792ac2a460f6",
      "9ba47e78411344a0856b37e7a608f409",
      "7c311f72340347368fe490895b8e7f06",
      "0238d0018f084da4ac124447374d7e29",
      "8043cc62486846868b76332a06e9cea9",
      "22bfe5fc6d6247b9ba2d56c1d19542bb",
      "6897fbc5e86b4ebe966a2ceabd8ee2f8",
      "1841012e97084302937ea97ba7ae9798",
      "3acb6cf8ae9e4a42815bb0f525ee29ab",
      "37bd97f4736843a99299a22bcb221a3e"
     ]
    },
    "id": "770d65c0",
    "outputId": "60f6e6c2-4a3f-4f2b-899a-c9114833bf7d"
   },
   "outputs": [
    {
     "name": "stderr",
     "output_type": "stream",
     "text": [
      "Restoring states from the checkpoint path at /home/jlw742/projects/in_progress/twitter_sentiment_analysis_Bert/checkpoints/best-checkpoint.ckpt\n",
      "LOCAL_RANK: 0 - CUDA_VISIBLE_DEVICES: [0]\n",
      "Loaded model weights from checkpoint at /home/jlw742/projects/in_progress/twitter_sentiment_analysis_Bert/checkpoints/best-checkpoint.ckpt\n",
      "/home/jlw742/pytorch/lib/python3.9/site-packages/pytorch_lightning/trainer/connectors/data_connector.py:224: PossibleUserWarning: The dataloader, test_dataloader 0, does not have many workers which may be a bottleneck. Consider increasing the value of the `num_workers` argument` (try 32 which is the number of cpus on this machine) in the `DataLoader` init to improve performance.\n",
      "  rank_zero_warn(\n"
     ]
    },
    {
     "data": {
      "application/vnd.jupyter.widget-view+json": {
       "model_id": "c8bdce60667b4098a0c1aa5509bd243c",
       "version_major": 2,
       "version_minor": 0
      },
      "text/plain": [
       "Testing: 0it [00:00, ?it/s]"
      ]
     },
     "metadata": {},
     "output_type": "display_data"
    },
    {
     "data": {
      "text/html": [
       "<pre style=\"white-space:pre;overflow-x:auto;line-height:normal;font-family:Menlo,'DejaVu Sans Mono',consolas,'Courier New',monospace\">┏━━━━━━━━━━━━━━━━━━━━━━━━━━━┳━━━━━━━━━━━━━━━━━━━━━━━━━━━┓\n",
       "┃<span style=\"font-weight: bold\">        Test metric        </span>┃<span style=\"font-weight: bold\">       DataLoader 0        </span>┃\n",
       "┡━━━━━━━━━━━━━━━━━━━━━━━━━━━╇━━━━━━━━━━━━━━━━━━━━━━━━━━━┩\n",
       "│<span style=\"color: #008080; text-decoration-color: #008080\">       test_accuracy       </span>│<span style=\"color: #800080; text-decoration-color: #800080\">    0.9776785714285714     </span>│\n",
       "│<span style=\"color: #008080; text-decoration-color: #008080\">       test_f1_score       </span>│<span style=\"color: #800080; text-decoration-color: #800080\">    0.9777957833015769     </span>│\n",
       "│<span style=\"color: #008080; text-decoration-color: #008080\">         test_loss         </span>│<span style=\"color: #800080; text-decoration-color: #800080\">    0.09595669060945511    </span>│\n",
       "└───────────────────────────┴───────────────────────────┘\n",
       "</pre>\n"
      ],
      "text/plain": [
       "┏━━━━━━━━━━━━━━━━━━━━━━━━━━━┳━━━━━━━━━━━━━━━━━━━━━━━━━━━┓\n",
       "┃\u001b[1m \u001b[0m\u001b[1m       Test metric       \u001b[0m\u001b[1m \u001b[0m┃\u001b[1m \u001b[0m\u001b[1m      DataLoader 0       \u001b[0m\u001b[1m \u001b[0m┃\n",
       "┡━━━━━━━━━━━━━━━━━━━━━━━━━━━╇━━━━━━━━━━━━━━━━━━━━━━━━━━━┩\n",
       "│\u001b[36m \u001b[0m\u001b[36m      test_accuracy      \u001b[0m\u001b[36m \u001b[0m│\u001b[35m \u001b[0m\u001b[35m   0.9776785714285714    \u001b[0m\u001b[35m \u001b[0m│\n",
       "│\u001b[36m \u001b[0m\u001b[36m      test_f1_score      \u001b[0m\u001b[36m \u001b[0m│\u001b[35m \u001b[0m\u001b[35m   0.9777957833015769    \u001b[0m\u001b[35m \u001b[0m│\n",
       "│\u001b[36m \u001b[0m\u001b[36m        test_loss        \u001b[0m\u001b[36m \u001b[0m│\u001b[35m \u001b[0m\u001b[35m   0.09595669060945511   \u001b[0m\u001b[35m \u001b[0m│\n",
       "└───────────────────────────┴───────────────────────────┘\n"
      ]
     },
     "metadata": {},
     "output_type": "display_data"
    },
    {
     "data": {
      "text/plain": [
       "[{'test_loss': 0.09595669060945511,\n",
       "  'test_accuracy': 0.9776785714285714,\n",
       "  'test_f1_score': 0.9777957833015769}]"
      ]
     },
     "execution_count": 40,
     "metadata": {},
     "output_type": "execute_result"
    }
   ],
   "source": [
    "trainer.test(model, test_dataloader, ckpt_path=chkpt_callback.best_model_path)"
   ]
  },
  {
   "cell_type": "code",
   "execution_count": 35,
   "id": "52a7550d",
   "metadata": {},
   "outputs": [],
   "source": [
    "def plot_confusion_matrix(y_true, y_pred, labels):\n",
    "    \"\"\"\n",
    "    Plots the confusion matrix for the given true and predicted labels\n",
    "\n",
    "    Parameters\n",
    "    ----------\n",
    "    y_true : list\n",
    "        List of true labels\n",
    "    y_pred : list\n",
    "        List of predicted labels\n",
    "    labels : list\n",
    "        List of labels\n",
    "    \"\"\"\n",
    "\n",
    "    cm = confusion_matrix(y_true, y_pred, labels=labels)\n",
    "    _, ax = plt.subplots(figsize=(8, 6))\n",
    "    sns.heatmap(cm, annot=True, fmt=\"d\", xticklabels=labels, yticklabels=labels, ax=ax)\n",
    "    ax.set_xlabel(\"Prediction\")\n",
    "    ax.set_ylabel(\"Actual\")\n",
    "    plt.show()"
   ]
  },
  {
   "cell_type": "code",
   "execution_count": 41,
   "id": "c2470185",
   "metadata": {
    "colab": {
     "base_uri": "https://localhost:8080/",
     "height": 609,
     "referenced_widgets": [
      "e2274410a4f54ef08084c3bdd5582f09",
      "22b8e7a6dbb848da8508b15e99109ecd",
      "f3f22c31651346fb8ed44204cff8cf56",
      "cba5a8936e854b05b3e651316779dab4",
      "c3c0890000a14ebcba7b55840677fd95",
      "db190a1343604f9da48ed499987dbd18",
      "7c3c9f1817bd427787a3535e41e07898",
      "9499138245bc4c869d39e7cd151de971",
      "e2f9f50165504f238f4d709ad2f224e7",
      "4f73d68cb4dc457e8daeef9727a4a68a",
      "748c5d8d4aa44a52bd356ee9c524edd1"
     ]
    },
    "id": "c2470185",
    "outputId": "bc0afd23-e121-42fd-bba9-bd3243d6b9af"
   },
   "outputs": [
    {
     "name": "stderr",
     "output_type": "stream",
     "text": [
      "Restoring states from the checkpoint path at /home/jlw742/projects/in_progress/twitter_sentiment_analysis_Bert/checkpoints/best-checkpoint.ckpt\n",
      "LOCAL_RANK: 0 - CUDA_VISIBLE_DEVICES: [0]\n",
      "Loaded model weights from checkpoint at /home/jlw742/projects/in_progress/twitter_sentiment_analysis_Bert/checkpoints/best-checkpoint.ckpt\n",
      "/home/jlw742/pytorch/lib/python3.9/site-packages/pytorch_lightning/trainer/connectors/data_connector.py:224: PossibleUserWarning: The dataloader, predict_dataloader 0, does not have many workers which may be a bottleneck. Consider increasing the value of the `num_workers` argument` (try 32 which is the number of cpus on this machine) in the `DataLoader` init to improve performance.\n",
      "  rank_zero_warn(\n"
     ]
    },
    {
     "data": {
      "application/vnd.jupyter.widget-view+json": {
       "model_id": "e66f59df61cd462d9c58fd7c2d6e6036",
       "version_major": 2,
       "version_minor": 0
      },
      "text/plain": [
       "Predicting: 786it [00:00, ?it/s]"
      ]
     },
     "metadata": {},
     "output_type": "display_data"
    },
    {
     "data": {
      "image/png": "[encoded data removed]",
      "text/plain": [
       "<Figure size 576x432 with 2 Axes>"
      ]
     },
     "metadata": {
      "needs_background": "light"
     },
     "output_type": "display_data"
    },
    {
     "name": "stdout",
     "output_type": "stream",
     "text": [
      "              precision    recall  f1-score   support\n",
      "\n",
      "    Negative       1.00      0.98      0.99       133\n",
      "     Neutral       0.98      0.97      0.97       143\n",
      "    Positive       0.95      0.99      0.97       138\n",
      "\n",
      "    accuracy                           0.98       414\n",
      "   macro avg       0.98      0.98      0.98       414\n",
      "weighted avg       0.98      0.98      0.98       414\n",
      "\n"
     ]
    }
   ],
   "source": [
    "y_pred = trainer.predict(model, test_dataloader, ckpt_path=chkpt_callback.best_model_path)\n",
    "y_pred= [np.argmax(y, axis=1) for y in y_pred]\n",
    "# flatten the list\n",
    "y_pred = [item for sublist in y_pred for item in sublist]\n",
    "\n",
    "# retiriving the class names\n",
    "y_pred_names= le.inverse_transform(y_pred)\n",
    "y_test_names= le.inverse_transform(y_test)\n",
    "\n",
    "plot_confusion_matrix(y_test_names, y_pred_names, labels=le.classes_)\n",
    "\n",
    "# print classification report\n",
    "from sklearn.metrics import classification_report\n",
    "print(classification_report(y_test_names, y_pred_names))"
   ]
  },
  {
   "cell_type": "code",
   "execution_count": 37,
   "id": "6c3b91b1",
   "metadata": {
    "colab": {
     "base_uri": "https://localhost:8080/",
     "height": 839
    },
    "id": "6c3b91b1",
    "outputId": "a533867e-f279-44ca-ef5e-35bd6ee16397"
   },
   "outputs": [
    {
     "data": {
      "text/html": [
       "\n",
       "      <iframe id=\"tensorboard-frame-1c80317fa3b1799d\" width=\"100%\" height=\"800\" frameborder=\"0\">\n",
       "      </iframe>\n",
       "      <script>\n",
       "        (function() {\n",
       "          const frame = document.getElementById(\"tensorboard-frame-1c80317fa3b1799d\");\n",
       "          const url = new URL(\"/\", window.location);\n",
       "          const port = 6006;\n",
       "          if (port) {\n",
       "            url.port = port;\n",
       "          }\n",
       "          frame.src = url;\n",
       "        })();\n",
       "      </script>\n",
       "    "
      ],
      "text/plain": [
       "<IPython.core.display.HTML object>"
      ]
     },
     "metadata": {},
     "output_type": "display_data"
    },
    {
     "name": "stdout",
     "output_type": "stream",
     "text": [
      "huggingface/tokenizers: The current process just got forked, after parallelism has already been used. Disabling parallelism to avoid deadlocks...\n",
      "To disable this warning, you can either:\n",
      "\t- Avoid using `tokenizers` before the fork if possible\n",
      "\t- Explicitly set the environment variable TOKENIZERS_PARALLELISM=(true | false)\n"
     ]
    }
   ],
   "source": [
    "%tensorboard --logdir=logs/"
   ]
  },
  {
   "attachments": {},
   "cell_type": "markdown",
   "id": "Ci_7uP5GuFJB",
   "metadata": {
    "id": "Ci_7uP5GuFJB"
   },
   "source": [
    "### Inference"
   ]
  },
  {
   "attachments": {},
   "cell_type": "markdown",
   "id": "ec4c9968",
   "metadata": {},
   "source": [
    "if you would like to only test the model you can start running the code from here."
   ]
  },
  {
   "cell_type": "code",
   "execution_count": 42,
   "id": "420f1277",
   "metadata": {},
   "outputs": [
    {
     "name": "stderr",
     "output_type": "stream",
     "text": [
      "Some weights of the model checkpoint at distilbert-base-uncased were not used when initializing DistilBertModel: ['vocab_transform.weight', 'vocab_projector.bias', 'vocab_layer_norm.bias', 'vocab_projector.weight', 'vocab_layer_norm.weight', 'vocab_transform.bias']\n",
      "- This IS expected if you are initializing DistilBertModel from the checkpoint of a model trained on another task or with another architecture (e.g. initializing a BertForSequenceClassification model from a BertForPreTraining model).\n",
      "- This IS NOT expected if you are initializing DistilBertModel from the checkpoint of a model that you expect to be exactly identical (initializing a BertForSequenceClassification model from a BertForSequenceClassification model).\n"
     ]
    }
   ],
   "source": [
    "# load the model from the checkpoint\n",
    "model = SentimentClassifier.load_from_checkpoint(\n",
    "    \"checkpoints/best-checkpoint.ckpt\",\n",
    "    n_classes=n_classes,\n",
    "    class_weights=class_weights,\n",
    ")"
   ]
  },
  {
   "cell_type": "code",
   "execution_count": 43,
   "id": "Rgrtqh_guI_f",
   "metadata": {
    "id": "Rgrtqh_guI_f"
   },
   "outputs": [],
   "source": [
    "def predict_sentence(text):\n",
    "    \"\"\"\n",
    "    This function predicts the sentiment of a sentence. \n",
    "    The text is cleaned and tokenized before prediction.\n",
    "    \n",
    "    Parameters\n",
    "    ----------\n",
    "    text : str\n",
    "        The text to be predicted\n",
    "    \n",
    "    Returns\n",
    "    -------\n",
    "    str\n",
    "        The predicted sentiment which can be either 'positive', 'negative' or 'neutral'\n",
    "    \"\"\"\n",
    "    # clean the text\n",
    "    text = clean_text(text)\n",
    "\n",
    "    # tokenize the text\n",
    "    text = tokenizer.encode_plus(\n",
    "        text,\n",
    "        max_length=seq_max_len,\n",
    "        padding=\"max_length\",\n",
    "        truncation=True,\n",
    "        return_attention_mask=True,\n",
    "        return_token_type_ids=False,\n",
    "        return_tensors=\"pt\"\n",
    "    )\n",
    "    \n",
    "    # predict the sentiment\n",
    "    with torch.no_grad():\n",
    "        output = model(dict(input_ids=text[\"input_ids\"].to(model.device),\n",
    "                            attention_mask=text[\"attention_mask\"].to(model.device))\n",
    "        )\n",
    "        _, prediction = torch.max(output, dim=1)\n",
    "\n",
    "    # inverse transform the prediction\n",
    "    prediction = le.inverse_transform(prediction.cpu().numpy())[0]\n",
    "\n",
    "    return prediction"
   ]
  },
  {
   "cell_type": "code",
   "execution_count": 44,
   "id": "e324cbf5",
   "metadata": {},
   "outputs": [],
   "source": [
    "# test the model with some sample sentences\n",
    "assert predict_sentence(\"I love this movie. It is great!\") == \"Positive\"\n",
    "assert predict_sentence(\"I hate this movie. It is bad!\") == \"Negative\"\n",
    "assert predict_sentence(\"wanna see a movie @ the theatre?\") == \"Neutral\""
   ]
  }
 ],
 "metadata": {
  "accelerator": "GPU",
  "colab": {
   "gpuType": "T4",
   "provenance": []
  },
  "gpuClass": "standard",
  "kernelspec": {
   "display_name": "Python 3 (ipykernel)",
   "language": "python",
   "name": "python3"
  },
  "language_info": {
   "codemirror_mode": {
    "name": "ipython",
    "version": 3
   },
   "file_extension": ".py",
   "mimetype": "text/x-python",
   "name": "python",
   "nbconvert_exporter": "python",
   "pygments_lexer": "ipython3",
   "version": "3.9.12"
  },
  "papermill": {
   "default_parameters": {},
   "duration": 1283.608788,
   "end_time": "2023-05-10T08:58:18.221288",
   "environment_variables": {},
   "exception": null,
   "input_path": "__notebook__.ipynb",
   "output_path": "__notebook__.ipynb",
   "parameters": {},
   "start_time": "2023-05-10T08:36:54.612500",
   "version": "2.4.0"
  },
  "widgets": {
   "application/vnd.jupyter.widget-state+json": {
    "0238d0018f084da4ac124447374d7e29": {
     "model_module": "@jupyter-widgets/base",
     "model_module_version": "1.2.0",
     "model_name": "LayoutModel",
     "state": {
      "_model_module": "@jupyter-widgets/base",
      "_model_module_version": "1.2.0",
      "_model_name": "LayoutModel",
      "_view_count": null,
      "_view_module": "@jupyter-widgets/base",
      "_view_module_version": "1.2.0",
      "_view_name": "LayoutView",
      "align_content": null,
      "align_items": null,
      "align_self": null,
      "border": null,
      "bottom": null,
      "display": "inline-flex",
      "flex": null,
      "flex_flow": "row wrap",
      "grid_area": null,
      "grid_auto_columns": null,
      "grid_auto_flow": null,
      "grid_auto_rows": null,
      "grid_column": null,
      "grid_gap": null,
      "grid_row": null,
      "grid_template_areas": null,
      "grid_template_columns": null,
      "grid_template_rows": null,
      "height": null,
      "justify_content": null,
      "justify_items": null,
      "left": null,
      "margin": null,
      "max_height": null,
      "max_width": null,
      "min_height": null,
      "min_width": null,
      "object_fit": null,
      "object_position": null,
      "order": null,
      "overflow": null,
      "overflow_x": null,
      "overflow_y": null,
      "padding": null,
      "right": null,
      "top": null,
      "visibility": null,
      "width": "100%"
     }
    },
    "0573582fb34a41d0b9c6898d47f2f061": {
     "model_module": "@jupyter-widgets/controls",
     "model_module_version": "1.5.0",
     "model_name": "ProgressStyleModel",
     "state": {
      "_model_module": "@jupyter-widgets/controls",
      "_model_module_version": "1.5.0",
      "_model_name": "ProgressStyleModel",
      "_view_count": null,
      "_view_module": "@jupyter-widgets/base",
      "_view_module_version": "1.2.0",
      "_view_name": "StyleView",
      "bar_color": null,
      "description_width": ""
     }
    },
    "061dc06c1f5742c594054bf3dcde4173": {
     "model_module": "@jupyter-widgets/controls",
     "model_module_version": "1.5.0",
     "model_name": "HTMLModel",
     "state": {
      "_dom_classes": [],
      "_model_module": "@jupyter-widgets/controls",
      "_model_module_version": "1.5.0",
      "_model_name": "HTMLModel",
      "_view_count": null,
      "_view_module": "@jupyter-widgets/controls",
      "_view_module_version": "1.5.0",
      "_view_name": "HTMLView",
      "description": "",
      "description_tooltip": null,
      "layout": "IPY_MODEL_43d6d9787d664870b8af0a63751350b0",
      "placeholder": "​",
      "style": "IPY_MODEL_d534e5bce2d34620a19e651728509f83",
      "value": " 232k/232k [00:00&lt;00:00, 3.88MB/s]"
     }
    },
    "0a67a219240e460595083a1ed1121a39": {
     "model_module": "@jupyter-widgets/controls",
     "model_module_version": "1.5.0",
     "model_name": "HBoxModel",
     "state": {
      "_dom_classes": [],
      "_model_module": "@jupyter-widgets/controls",
      "_model_module_version": "1.5.0",
      "_model_name": "HBoxModel",
      "_view_count": null,
      "_view_module": "@jupyter-widgets/controls",
      "_view_module_version": "1.5.0",
      "_view_name": "HBoxView",
      "box_style": "",
      "children": [
       "IPY_MODEL_7b650b53835747d78f6bdf05d2c9754e",
       "IPY_MODEL_5dc7d1c055d944cdb242797478718aa3",
       "IPY_MODEL_8a4b8d6bbf9b46dcb76f1c67255ab684"
      ],
      "layout": "IPY_MODEL_e4213efd16bc4b7da815e57630734cee"
     }
    },
    "0b4ad20431614dbfb155a069a5c0cc20": {
     "model_module": "@jupyter-widgets/controls",
     "model_module_version": "1.5.0",
     "model_name": "DescriptionStyleModel",
     "state": {
      "_model_module": "@jupyter-widgets/controls",
      "_model_module_version": "1.5.0",
      "_model_name": "DescriptionStyleModel",
      "_view_count": null,
      "_view_module": "@jupyter-widgets/base",
      "_view_module_version": "1.2.0",
      "_view_name": "StyleView",
      "description_width": ""
     }
    },
    "0c1e91bac5b244628dd03b010898374b": {
     "model_module": "@jupyter-widgets/controls",
     "model_module_version": "1.5.0",
     "model_name": "FloatProgressModel",
     "state": {
      "_dom_classes": [],
      "_model_module": "@jupyter-widgets/controls",
      "_model_module_version": "1.5.0",
      "_model_name": "FloatProgressModel",
      "_view_count": null,
      "_view_module": "@jupyter-widgets/controls",
      "_view_module_version": "1.5.0",
      "_view_name": "ProgressView",
      "bar_style": "success",
      "description": "",
      "description_tooltip": null,
      "layout": "IPY_MODEL_bb0dbf73cf844ba581e9f3f2b55549f5",
      "max": 231508,
      "min": 0,
      "orientation": "horizontal",
      "style": "IPY_MODEL_fe288d1b23294e46a7cd64f81b638547",
      "value": 231508
     }
    },
    "1474e40ab48b4e50bff66a0913173039": {
     "model_module": "@jupyter-widgets/base",
     "model_module_version": "1.2.0",
     "model_name": "LayoutModel",
     "state": {
      "_model_module": "@jupyter-widgets/base",
      "_model_module_version": "1.2.0",
      "_model_name": "LayoutModel",
      "_view_count": null,
      "_view_module": "@jupyter-widgets/base",
      "_view_module_version": "1.2.0",
      "_view_name": "LayoutView",
      "align_content": null,
      "align_items": null,
      "align_self": null,
      "border": null,
      "bottom": null,
      "display": null,
      "flex": null,
      "flex_flow": null,
      "grid_area": null,
      "grid_auto_columns": null,
      "grid_auto_flow": null,
      "grid_auto_rows": null,
      "grid_column": null,
      "grid_gap": null,
      "grid_row": null,
      "grid_template_areas": null,
      "grid_template_columns": null,
      "grid_template_rows": null,
      "height": null,
      "justify_content": null,
      "justify_items": null,
      "left": null,
      "margin": null,
      "max_height": null,
      "max_width": null,
      "min_height": null,
      "min_width": null,
      "object_fit": null,
      "object_position": null,
      "order": null,
      "overflow": null,
      "overflow_x": null,
      "overflow_y": null,
      "padding": null,
      "right": null,
      "top": null,
      "visibility": null,
      "width": null
     }
    },
    "17372e6103ce4af6a5f7e02974efd653": {
     "model_module": "@jupyter-widgets/base",
     "model_module_version": "1.2.0",
     "model_name": "LayoutModel",
     "state": {
      "_model_module": "@jupyter-widgets/base",
      "_model_module_version": "1.2.0",
      "_model_name": "LayoutModel",
      "_view_count": null,
      "_view_module": "@jupyter-widgets/base",
      "_view_module_version": "1.2.0",
      "_view_name": "LayoutView",
      "align_content": null,
      "align_items": null,
      "align_self": null,
      "border": null,
      "bottom": null,
      "display": null,
      "flex": null,
      "flex_flow": null,
      "grid_area": null,
      "grid_auto_columns": null,
      "grid_auto_flow": null,
      "grid_auto_rows": null,
      "grid_column": null,
      "grid_gap": null,
      "grid_row": null,
      "grid_template_areas": null,
      "grid_template_columns": null,
      "grid_template_rows": null,
      "height": null,
      "justify_content": null,
      "justify_items": null,
      "left": null,
      "margin": null,
      "max_height": null,
      "max_width": null,
      "min_height": null,
      "min_width": null,
      "object_fit": null,
      "object_position": null,
      "order": null,
      "overflow": null,
      "overflow_x": null,
      "overflow_y": null,
      "padding": null,
      "right": null,
      "top": null,
      "visibility": null,
      "width": null
     }
    },
    "1841012e97084302937ea97ba7ae9798": {
     "model_module": "@jupyter-widgets/controls",
     "model_module_version": "1.5.0",
     "model_name": "ProgressStyleModel",
     "state": {
      "_model_module": "@jupyter-widgets/controls",
      "_model_module_version": "1.5.0",
      "_model_name": "ProgressStyleModel",
      "_view_count": null,
      "_view_module": "@jupyter-widgets/base",
      "_view_module_version": "1.2.0",
      "_view_name": "StyleView",
      "bar_color": null,
      "description_width": ""
     }
    },
    "1e7db19422c64915a607cb5ef8b10df7": {
     "model_module": "@jupyter-widgets/base",
     "model_module_version": "1.2.0",
     "model_name": "LayoutModel",
     "state": {
      "_model_module": "@jupyter-widgets/base",
      "_model_module_version": "1.2.0",
      "_model_name": "LayoutModel",
      "_view_count": null,
      "_view_module": "@jupyter-widgets/base",
      "_view_module_version": "1.2.0",
      "_view_name": "LayoutView",
      "align_content": null,
      "align_items": null,
      "align_self": null,
      "border": null,
      "bottom": null,
      "display": null,
      "flex": null,
      "flex_flow": null,
      "grid_area": null,
      "grid_auto_columns": null,
      "grid_auto_flow": null,
      "grid_auto_rows": null,
      "grid_column": null,
      "grid_gap": null,
      "grid_row": null,
      "grid_template_areas": null,
      "grid_template_columns": null,
      "grid_template_rows": null,
      "height": null,
      "justify_content": null,
      "justify_items": null,
      "left": null,
      "margin": null,
      "max_height": null,
      "max_width": null,
      "min_height": null,
      "min_width": null,
      "object_fit": null,
      "object_position": null,
      "order": null,
      "overflow": null,
      "overflow_x": null,
      "overflow_y": null,
      "padding": null,
      "right": null,
      "top": null,
      "visibility": null,
      "width": null
     }
    },
    "2162395db0a149fcad421ea821985dd9": {
     "model_module": "@jupyter-widgets/controls",
     "model_module_version": "1.5.0",
     "model_name": "FloatProgressModel",
     "state": {
      "_dom_classes": [],
      "_model_module": "@jupyter-widgets/controls",
      "_model_module_version": "1.5.0",
      "_model_name": "FloatProgressModel",
      "_view_count": null,
      "_view_module": "@jupyter-widgets/controls",
      "_view_module_version": "1.5.0",
      "_view_name": "ProgressView",
      "bar_style": "success",
      "description": "",
      "description_tooltip": null,
      "layout": "IPY_MODEL_b94e0503d8ed4e95a40a2fc8b90f70e7",
      "max": 267967963,
      "min": 0,
      "orientation": "horizontal",
      "style": "IPY_MODEL_9976a164252f422e8292af731c9d665c",
      "value": 267967963
     }
    },
    "22b8e7a6dbb848da8508b15e99109ecd": {
     "model_module": "@jupyter-widgets/controls",
     "model_module_version": "1.5.0",
     "model_name": "HTMLModel",
     "state": {
      "_dom_classes": [],
      "_model_module": "@jupyter-widgets/controls",
      "_model_module_version": "1.5.0",
      "_model_name": "HTMLModel",
      "_view_count": null,
      "_view_module": "@jupyter-widgets/controls",
      "_view_module_version": "1.5.0",
      "_view_name": "HTMLView",
      "description": "",
      "description_tooltip": null,
      "layout": "IPY_MODEL_db190a1343604f9da48ed499987dbd18",
      "placeholder": "​",
      "style": "IPY_MODEL_7c3c9f1817bd427787a3535e41e07898",
      "value": "Predicting DataLoader 0: 100%"
     }
    },
    "22bfe5fc6d6247b9ba2d56c1d19542bb": {
     "model_module": "@jupyter-widgets/controls",
     "model_module_version": "1.5.0",
     "model_name": "DescriptionStyleModel",
     "state": {
      "_model_module": "@jupyter-widgets/controls",
      "_model_module_version": "1.5.0",
      "_model_name": "DescriptionStyleModel",
      "_view_count": null,
      "_view_module": "@jupyter-widgets/base",
      "_view_module_version": "1.2.0",
      "_view_name": "StyleView",
      "description_width": ""
     }
    },
    "22d2813dfc1142ccbbfa19f1ed0cb488": {
     "model_module": "@jupyter-widgets/controls",
     "model_module_version": "1.5.0",
     "model_name": "HTMLModel",
     "state": {
      "_dom_classes": [],
      "_model_module": "@jupyter-widgets/controls",
      "_model_module_version": "1.5.0",
      "_model_name": "HTMLModel",
      "_view_count": null,
      "_view_module": "@jupyter-widgets/controls",
      "_view_module_version": "1.5.0",
      "_view_name": "HTMLView",
      "description": "",
      "description_tooltip": null,
      "layout": "IPY_MODEL_44b48b97c06f4bd185b42c03134356ca",
      "placeholder": "​",
      "style": "IPY_MODEL_0b4ad20431614dbfb155a069a5c0cc20",
      "value": " 466k/466k [00:00&lt;00:00, 12.1MB/s]"
     }
    },
    "234a51a69b9640a5b9bc50b6e92a63e4": {
     "model_module": "@jupyter-widgets/base",
     "model_module_version": "1.2.0",
     "model_name": "LayoutModel",
     "state": {
      "_model_module": "@jupyter-widgets/base",
      "_model_module_version": "1.2.0",
      "_model_name": "LayoutModel",
      "_view_count": null,
      "_view_module": "@jupyter-widgets/base",
      "_view_module_version": "1.2.0",
      "_view_name": "LayoutView",
      "align_content": null,
      "align_items": null,
      "align_self": null,
      "border": null,
      "bottom": null,
      "display": null,
      "flex": null,
      "flex_flow": null,
      "grid_area": null,
      "grid_auto_columns": null,
      "grid_auto_flow": null,
      "grid_auto_rows": null,
      "grid_column": null,
      "grid_gap": null,
      "grid_row": null,
      "grid_template_areas": null,
      "grid_template_columns": null,
      "grid_template_rows": null,
      "height": null,
      "justify_content": null,
      "justify_items": null,
      "left": null,
      "margin": null,
      "max_height": null,
      "max_width": null,
      "min_height": null,
      "min_width": null,
      "object_fit": null,
      "object_position": null,
      "order": null,
      "overflow": null,
      "overflow_x": null,
      "overflow_y": null,
      "padding": null,
      "right": null,
      "top": null,
      "visibility": null,
      "width": null
     }
    },
    "237c6ce0dd1944369a600ba8dd71eae2": {
     "model_module": "@jupyter-widgets/controls",
     "model_module_version": "1.5.0",
     "model_name": "ProgressStyleModel",
     "state": {
      "_model_module": "@jupyter-widgets/controls",
      "_model_module_version": "1.5.0",
      "_model_name": "ProgressStyleModel",
      "_view_count": null,
      "_view_module": "@jupyter-widgets/base",
      "_view_module_version": "1.2.0",
      "_view_name": "StyleView",
      "bar_color": null,
      "description_width": ""
     }
    },
    "24de9df4b4ce4f57ac2f6b953f2e645a": {
     "model_module": "@jupyter-widgets/base",
     "model_module_version": "1.2.0",
     "model_name": "LayoutModel",
     "state": {
      "_model_module": "@jupyter-widgets/base",
      "_model_module_version": "1.2.0",
      "_model_name": "LayoutModel",
      "_view_count": null,
      "_view_module": "@jupyter-widgets/base",
      "_view_module_version": "1.2.0",
      "_view_name": "LayoutView",
      "align_content": null,
      "align_items": null,
      "align_self": null,
      "border": null,
      "bottom": null,
      "display": null,
      "flex": null,
      "flex_flow": null,
      "grid_area": null,
      "grid_auto_columns": null,
      "grid_auto_flow": null,
      "grid_auto_rows": null,
      "grid_column": null,
      "grid_gap": null,
      "grid_row": null,
      "grid_template_areas": null,
      "grid_template_columns": null,
      "grid_template_rows": null,
      "height": null,
      "justify_content": null,
      "justify_items": null,
      "left": null,
      "margin": null,
      "max_height": null,
      "max_width": null,
      "min_height": null,
      "min_width": null,
      "object_fit": null,
      "object_position": null,
      "order": null,
      "overflow": null,
      "overflow_x": null,
      "overflow_y": null,
      "padding": null,
      "right": null,
      "top": null,
      "visibility": null,
      "width": null
     }
    },
    "25bbd5b86de547bb83e7b984d458f133": {
     "model_module": "@jupyter-widgets/controls",
     "model_module_version": "1.5.0",
     "model_name": "ProgressStyleModel",
     "state": {
      "_model_module": "@jupyter-widgets/controls",
      "_model_module_version": "1.5.0",
      "_model_name": "ProgressStyleModel",
      "_view_count": null,
      "_view_module": "@jupyter-widgets/base",
      "_view_module_version": "1.2.0",
      "_view_name": "StyleView",
      "bar_color": null,
      "description_width": ""
     }
    },
    "26d2cfc4b922471c972862beb607d089": {
     "model_module": "@jupyter-widgets/controls",
     "model_module_version": "1.5.0",
     "model_name": "DescriptionStyleModel",
     "state": {
      "_model_module": "@jupyter-widgets/controls",
      "_model_module_version": "1.5.0",
      "_model_name": "DescriptionStyleModel",
      "_view_count": null,
      "_view_module": "@jupyter-widgets/base",
      "_view_module_version": "1.2.0",
      "_view_name": "StyleView",
      "description_width": ""
     }
    },
    "306c7674a76b44d49db89e9f9dd0f1ea": {
     "model_module": "@jupyter-widgets/controls",
     "model_module_version": "1.5.0",
     "model_name": "ProgressStyleModel",
     "state": {
      "_model_module": "@jupyter-widgets/controls",
      "_model_module_version": "1.5.0",
      "_model_name": "ProgressStyleModel",
      "_view_count": null,
      "_view_module": "@jupyter-widgets/base",
      "_view_module_version": "1.2.0",
      "_view_name": "StyleView",
      "bar_color": null,
      "description_width": ""
     }
    },
    "321160b240f94f9f98e666cac36c9308": {
     "model_module": "@jupyter-widgets/controls",
     "model_module_version": "1.5.0",
     "model_name": "HBoxModel",
     "state": {
      "_dom_classes": [],
      "_model_module": "@jupyter-widgets/controls",
      "_model_module_version": "1.5.0",
      "_model_name": "HBoxModel",
      "_view_count": null,
      "_view_module": "@jupyter-widgets/controls",
      "_view_module_version": "1.5.0",
      "_view_name": "HBoxView",
      "box_style": "",
      "children": [
       "IPY_MODEL_bf7e2deadf0647209e481f6f7f7988ee",
       "IPY_MODEL_b0c263a961da4dc69be1f4238d3f73d9",
       "IPY_MODEL_22d2813dfc1142ccbbfa19f1ed0cb488"
      ],
      "layout": "IPY_MODEL_d1c62c1e75084848b9bac889076268fb"
     }
    },
    "33e9fbf30e8a48519e2110aaa6f9a1fb": {
     "model_module": "@jupyter-widgets/base",
     "model_module_version": "1.2.0",
     "model_name": "LayoutModel",
     "state": {
      "_model_module": "@jupyter-widgets/base",
      "_model_module_version": "1.2.0",
      "_model_name": "LayoutModel",
      "_view_count": null,
      "_view_module": "@jupyter-widgets/base",
      "_view_module_version": "1.2.0",
      "_view_name": "LayoutView",
      "align_content": null,
      "align_items": null,
      "align_self": null,
      "border": null,
      "bottom": null,
      "display": null,
      "flex": null,
      "flex_flow": null,
      "grid_area": null,
      "grid_auto_columns": null,
      "grid_auto_flow": null,
      "grid_auto_rows": null,
      "grid_column": null,
      "grid_gap": null,
      "grid_row": null,
      "grid_template_areas": null,
      "grid_template_columns": null,
      "grid_template_rows": null,
      "height": null,
      "justify_content": null,
      "justify_items": null,
      "left": null,
      "margin": null,
      "max_height": null,
      "max_width": null,
      "min_height": null,
      "min_width": null,
      "object_fit": null,
      "object_position": null,
      "order": null,
      "overflow": null,
      "overflow_x": null,
      "overflow_y": null,
      "padding": null,
      "right": null,
      "top": null,
      "visibility": null,
      "width": null
     }
    },
    "37bd97f4736843a99299a22bcb221a3e": {
     "model_module": "@jupyter-widgets/controls",
     "model_module_version": "1.5.0",
     "model_name": "DescriptionStyleModel",
     "state": {
      "_model_module": "@jupyter-widgets/controls",
      "_model_module_version": "1.5.0",
      "_model_name": "DescriptionStyleModel",
      "_view_count": null,
      "_view_module": "@jupyter-widgets/base",
      "_view_module_version": "1.2.0",
      "_view_name": "StyleView",
      "description_width": ""
     }
    },
    "3acb6cf8ae9e4a42815bb0f525ee29ab": {
     "model_module": "@jupyter-widgets/base",
     "model_module_version": "1.2.0",
     "model_name": "LayoutModel",
     "state": {
      "_model_module": "@jupyter-widgets/base",
      "_model_module_version": "1.2.0",
      "_model_name": "LayoutModel",
      "_view_count": null,
      "_view_module": "@jupyter-widgets/base",
      "_view_module_version": "1.2.0",
      "_view_name": "LayoutView",
      "align_content": null,
      "align_items": null,
      "align_self": null,
      "border": null,
      "bottom": null,
      "display": null,
      "flex": null,
      "flex_flow": null,
      "grid_area": null,
      "grid_auto_columns": null,
      "grid_auto_flow": null,
      "grid_auto_rows": null,
      "grid_column": null,
      "grid_gap": null,
      "grid_row": null,
      "grid_template_areas": null,
      "grid_template_columns": null,
      "grid_template_rows": null,
      "height": null,
      "justify_content": null,
      "justify_items": null,
      "left": null,
      "margin": null,
      "max_height": null,
      "max_width": null,
      "min_height": null,
      "min_width": null,
      "object_fit": null,
      "object_position": null,
      "order": null,
      "overflow": null,
      "overflow_x": null,
      "overflow_y": null,
      "padding": null,
      "right": null,
      "top": null,
      "visibility": null,
      "width": null
     }
    },
    "43d6d9787d664870b8af0a63751350b0": {
     "model_module": "@jupyter-widgets/base",
     "model_module_version": "1.2.0",
     "model_name": "LayoutModel",
     "state": {
      "_model_module": "@jupyter-widgets/base",
      "_model_module_version": "1.2.0",
      "_model_name": "LayoutModel",
      "_view_count": null,
      "_view_module": "@jupyter-widgets/base",
      "_view_module_version": "1.2.0",
      "_view_name": "LayoutView",
      "align_content": null,
      "align_items": null,
      "align_self": null,
      "border": null,
      "bottom": null,
      "display": null,
      "flex": null,
      "flex_flow": null,
      "grid_area": null,
      "grid_auto_columns": null,
      "grid_auto_flow": null,
      "grid_auto_rows": null,
      "grid_column": null,
      "grid_gap": null,
      "grid_row": null,
      "grid_template_areas": null,
      "grid_template_columns": null,
      "grid_template_rows": null,
      "height": null,
      "justify_content": null,
      "justify_items": null,
      "left": null,
      "margin": null,
      "max_height": null,
      "max_width": null,
      "min_height": null,
      "min_width": null,
      "object_fit": null,
      "object_position": null,
      "order": null,
      "overflow": null,
      "overflow_x": null,
      "overflow_y": null,
      "padding": null,
      "right": null,
      "top": null,
      "visibility": null,
      "width": null
     }
    },
    "4494dc219aaf458c95e6a068a917c674": {
     "model_module": "@jupyter-widgets/controls",
     "model_module_version": "1.5.0",
     "model_name": "HTMLModel",
     "state": {
      "_dom_classes": [],
      "_model_module": "@jupyter-widgets/controls",
      "_model_module_version": "1.5.0",
      "_model_name": "HTMLModel",
      "_view_count": null,
      "_view_module": "@jupyter-widgets/controls",
      "_view_module_version": "1.5.0",
      "_view_name": "HTMLView",
      "description": "",
      "description_tooltip": null,
      "layout": "IPY_MODEL_cfa0a2fb47bb4228a2a6a8a000494976",
      "placeholder": "​",
      "style": "IPY_MODEL_cd625af8b5284dfca08537be174a8154",
      "value": "Downloading (…)solve/main/vocab.txt: 100%"
     }
    },
    "44b48b97c06f4bd185b42c03134356ca": {
     "model_module": "@jupyter-widgets/base",
     "model_module_version": "1.2.0",
     "model_name": "LayoutModel",
     "state": {
      "_model_module": "@jupyter-widgets/base",
      "_model_module_version": "1.2.0",
      "_model_name": "LayoutModel",
      "_view_count": null,
      "_view_module": "@jupyter-widgets/base",
      "_view_module_version": "1.2.0",
      "_view_name": "LayoutView",
      "align_content": null,
      "align_items": null,
      "align_self": null,
      "border": null,
      "bottom": null,
      "display": null,
      "flex": null,
      "flex_flow": null,
      "grid_area": null,
      "grid_auto_columns": null,
      "grid_auto_flow": null,
      "grid_auto_rows": null,
      "grid_column": null,
      "grid_gap": null,
      "grid_row": null,
      "grid_template_areas": null,
      "grid_template_columns": null,
      "grid_template_rows": null,
      "height": null,
      "justify_content": null,
      "justify_items": null,
      "left": null,
      "margin": null,
      "max_height": null,
      "max_width": null,
      "min_height": null,
      "min_width": null,
      "object_fit": null,
      "object_position": null,
      "order": null,
      "overflow": null,
      "overflow_x": null,
      "overflow_y": null,
      "padding": null,
      "right": null,
      "top": null,
      "visibility": null,
      "width": null
     }
    },
    "4ed1203339734553b34a0ff4c761c562": {
     "model_module": "@jupyter-widgets/controls",
     "model_module_version": "1.5.0",
     "model_name": "DescriptionStyleModel",
     "state": {
      "_model_module": "@jupyter-widgets/controls",
      "_model_module_version": "1.5.0",
      "_model_name": "DescriptionStyleModel",
      "_view_count": null,
      "_view_module": "@jupyter-widgets/base",
      "_view_module_version": "1.2.0",
      "_view_name": "StyleView",
      "description_width": ""
     }
    },
    "4f73d68cb4dc457e8daeef9727a4a68a": {
     "model_module": "@jupyter-widgets/base",
     "model_module_version": "1.2.0",
     "model_name": "LayoutModel",
     "state": {
      "_model_module": "@jupyter-widgets/base",
      "_model_module_version": "1.2.0",
      "_model_name": "LayoutModel",
      "_view_count": null,
      "_view_module": "@jupyter-widgets/base",
      "_view_module_version": "1.2.0",
      "_view_name": "LayoutView",
      "align_content": null,
      "align_items": null,
      "align_self": null,
      "border": null,
      "bottom": null,
      "display": null,
      "flex": null,
      "flex_flow": null,
      "grid_area": null,
      "grid_auto_columns": null,
      "grid_auto_flow": null,
      "grid_auto_rows": null,
      "grid_column": null,
      "grid_gap": null,
      "grid_row": null,
      "grid_template_areas": null,
      "grid_template_columns": null,
      "grid_template_rows": null,
      "height": null,
      "justify_content": null,
      "justify_items": null,
      "left": null,
      "margin": null,
      "max_height": null,
      "max_width": null,
      "min_height": null,
      "min_width": null,
      "object_fit": null,
      "object_position": null,
      "order": null,
      "overflow": null,
      "overflow_x": null,
      "overflow_y": null,
      "padding": null,
      "right": null,
      "top": null,
      "visibility": null,
      "width": null
     }
    },
    "5dc7d1c055d944cdb242797478718aa3": {
     "model_module": "@jupyter-widgets/controls",
     "model_module_version": "1.5.0",
     "model_name": "FloatProgressModel",
     "state": {
      "_dom_classes": [],
      "_model_module": "@jupyter-widgets/controls",
      "_model_module_version": "1.5.0",
      "_model_name": "FloatProgressModel",
      "_view_count": null,
      "_view_module": "@jupyter-widgets/controls",
      "_view_module_version": "1.5.0",
      "_view_name": "ProgressView",
      "bar_style": "",
      "description": "",
      "description_tooltip": null,
      "layout": "IPY_MODEL_92c464a25eb149cd8b35616d691203ce",
      "max": 1,
      "min": 0,
      "orientation": "horizontal",
      "style": "IPY_MODEL_237c6ce0dd1944369a600ba8dd71eae2",
      "value": 1
     }
    },
    "6825fbbc4aed4e5ca6890aa33c8bd507": {
     "model_module": "@jupyter-widgets/base",
     "model_module_version": "1.2.0",
     "model_name": "LayoutModel",
     "state": {
      "_model_module": "@jupyter-widgets/base",
      "_model_module_version": "1.2.0",
      "_model_name": "LayoutModel",
      "_view_count": null,
      "_view_module": "@jupyter-widgets/base",
      "_view_module_version": "1.2.0",
      "_view_name": "LayoutView",
      "align_content": null,
      "align_items": null,
      "align_self": null,
      "border": null,
      "bottom": null,
      "display": null,
      "flex": null,
      "flex_flow": null,
      "grid_area": null,
      "grid_auto_columns": null,
      "grid_auto_flow": null,
      "grid_auto_rows": null,
      "grid_column": null,
      "grid_gap": null,
      "grid_row": null,
      "grid_template_areas": null,
      "grid_template_columns": null,
      "grid_template_rows": null,
      "height": null,
      "justify_content": null,
      "justify_items": null,
      "left": null,
      "margin": null,
      "max_height": null,
      "max_width": null,
      "min_height": null,
      "min_width": null,
      "object_fit": null,
      "object_position": null,
      "order": null,
      "overflow": null,
      "overflow_x": null,
      "overflow_y": null,
      "padding": null,
      "right": null,
      "top": null,
      "visibility": null,
      "width": null
     }
    },
    "6897fbc5e86b4ebe966a2ceabd8ee2f8": {
     "model_module": "@jupyter-widgets/base",
     "model_module_version": "1.2.0",
     "model_name": "LayoutModel",
     "state": {
      "_model_module": "@jupyter-widgets/base",
      "_model_module_version": "1.2.0",
      "_model_name": "LayoutModel",
      "_view_count": null,
      "_view_module": "@jupyter-widgets/base",
      "_view_module_version": "1.2.0",
      "_view_name": "LayoutView",
      "align_content": null,
      "align_items": null,
      "align_self": null,
      "border": null,
      "bottom": null,
      "display": null,
      "flex": "2",
      "flex_flow": null,
      "grid_area": null,
      "grid_auto_columns": null,
      "grid_auto_flow": null,
      "grid_auto_rows": null,
      "grid_column": null,
      "grid_gap": null,
      "grid_row": null,
      "grid_template_areas": null,
      "grid_template_columns": null,
      "grid_template_rows": null,
      "height": null,
      "justify_content": null,
      "justify_items": null,
      "left": null,
      "margin": null,
      "max_height": null,
      "max_width": null,
      "min_height": null,
      "min_width": null,
      "object_fit": null,
      "object_position": null,
      "order": null,
      "overflow": null,
      "overflow_x": null,
      "overflow_y": null,
      "padding": null,
      "right": null,
      "top": null,
      "visibility": null,
      "width": null
     }
    },
    "720ec0b006e14210b79290f884e389e7": {
     "model_module": "@jupyter-widgets/base",
     "model_module_version": "1.2.0",
     "model_name": "LayoutModel",
     "state": {
      "_model_module": "@jupyter-widgets/base",
      "_model_module_version": "1.2.0",
      "_model_name": "LayoutModel",
      "_view_count": null,
      "_view_module": "@jupyter-widgets/base",
      "_view_module_version": "1.2.0",
      "_view_name": "LayoutView",
      "align_content": null,
      "align_items": null,
      "align_self": null,
      "border": null,
      "bottom": null,
      "display": null,
      "flex": null,
      "flex_flow": null,
      "grid_area": null,
      "grid_auto_columns": null,
      "grid_auto_flow": null,
      "grid_auto_rows": null,
      "grid_column": null,
      "grid_gap": null,
      "grid_row": null,
      "grid_template_areas": null,
      "grid_template_columns": null,
      "grid_template_rows": null,
      "height": null,
      "justify_content": null,
      "justify_items": null,
      "left": null,
      "margin": null,
      "max_height": null,
      "max_width": null,
      "min_height": null,
      "min_width": null,
      "object_fit": null,
      "object_position": null,
      "order": null,
      "overflow": null,
      "overflow_x": null,
      "overflow_y": null,
      "padding": null,
      "right": null,
      "top": null,
      "visibility": null,
      "width": null
     }
    },
    "748c5d8d4aa44a52bd356ee9c524edd1": {
     "model_module": "@jupyter-widgets/controls",
     "model_module_version": "1.5.0",
     "model_name": "DescriptionStyleModel",
     "state": {
      "_model_module": "@jupyter-widgets/controls",
      "_model_module_version": "1.5.0",
      "_model_name": "DescriptionStyleModel",
      "_view_count": null,
      "_view_module": "@jupyter-widgets/base",
      "_view_module_version": "1.2.0",
      "_view_name": "StyleView",
      "description_width": ""
     }
    },
    "7613b0a9743d4969a5ab44880a0d3dc9": {
     "model_module": "@jupyter-widgets/base",
     "model_module_version": "1.2.0",
     "model_name": "LayoutModel",
     "state": {
      "_model_module": "@jupyter-widgets/base",
      "_model_module_version": "1.2.0",
      "_model_name": "LayoutModel",
      "_view_count": null,
      "_view_module": "@jupyter-widgets/base",
      "_view_module_version": "1.2.0",
      "_view_name": "LayoutView",
      "align_content": null,
      "align_items": null,
      "align_self": null,
      "border": null,
      "bottom": null,
      "display": null,
      "flex": null,
      "flex_flow": null,
      "grid_area": null,
      "grid_auto_columns": null,
      "grid_auto_flow": null,
      "grid_auto_rows": null,
      "grid_column": null,
      "grid_gap": null,
      "grid_row": null,
      "grid_template_areas": null,
      "grid_template_columns": null,
      "grid_template_rows": null,
      "height": null,
      "justify_content": null,
      "justify_items": null,
      "left": null,
      "margin": null,
      "max_height": null,
      "max_width": null,
      "min_height": null,
      "min_width": null,
      "object_fit": null,
      "object_position": null,
      "order": null,
      "overflow": null,
      "overflow_x": null,
      "overflow_y": null,
      "padding": null,
      "right": null,
      "top": null,
      "visibility": null,
      "width": null
     }
    },
    "7a567d45a67647189bfc4a0559eb5c09": {
     "model_module": "@jupyter-widgets/base",
     "model_module_version": "1.2.0",
     "model_name": "LayoutModel",
     "state": {
      "_model_module": "@jupyter-widgets/base",
      "_model_module_version": "1.2.0",
      "_model_name": "LayoutModel",
      "_view_count": null,
      "_view_module": "@jupyter-widgets/base",
      "_view_module_version": "1.2.0",
      "_view_name": "LayoutView",
      "align_content": null,
      "align_items": null,
      "align_self": null,
      "border": null,
      "bottom": null,
      "display": null,
      "flex": null,
      "flex_flow": null,
      "grid_area": null,
      "grid_auto_columns": null,
      "grid_auto_flow": null,
      "grid_auto_rows": null,
      "grid_column": null,
      "grid_gap": null,
      "grid_row": null,
      "grid_template_areas": null,
      "grid_template_columns": null,
      "grid_template_rows": null,
      "height": null,
      "justify_content": null,
      "justify_items": null,
      "left": null,
      "margin": null,
      "max_height": null,
      "max_width": null,
      "min_height": null,
      "min_width": null,
      "object_fit": null,
      "object_position": null,
      "order": null,
      "overflow": null,
      "overflow_x": null,
      "overflow_y": null,
      "padding": null,
      "right": null,
      "top": null,
      "visibility": null,
      "width": null
     }
    },
    "7ae2766218f64c3a8576f41afb8559de": {
     "model_module": "@jupyter-widgets/controls",
     "model_module_version": "1.5.0",
     "model_name": "DescriptionStyleModel",
     "state": {
      "_model_module": "@jupyter-widgets/controls",
      "_model_module_version": "1.5.0",
      "_model_name": "DescriptionStyleModel",
      "_view_count": null,
      "_view_module": "@jupyter-widgets/base",
      "_view_module_version": "1.2.0",
      "_view_name": "StyleView",
      "description_width": ""
     }
    },
    "7b650b53835747d78f6bdf05d2c9754e": {
     "model_module": "@jupyter-widgets/controls",
     "model_module_version": "1.5.0",
     "model_name": "HTMLModel",
     "state": {
      "_dom_classes": [],
      "_model_module": "@jupyter-widgets/controls",
      "_model_module_version": "1.5.0",
      "_model_name": "HTMLModel",
      "_view_count": null,
      "_view_module": "@jupyter-widgets/controls",
      "_view_module_version": "1.5.0",
      "_view_name": "HTMLView",
      "description": "",
      "description_tooltip": null,
      "layout": "IPY_MODEL_17372e6103ce4af6a5f7e02974efd653",
      "placeholder": "​",
      "style": "IPY_MODEL_d009871688f043fd8a5ed62b8066fbbe",
      "value": "Sanity Checking DataLoader 0: 100%"
     }
    },
    "7c311f72340347368fe490895b8e7f06": {
     "model_module": "@jupyter-widgets/controls",
     "model_module_version": "1.5.0",
     "model_name": "HTMLModel",
     "state": {
      "_dom_classes": [],
      "_model_module": "@jupyter-widgets/controls",
      "_model_module_version": "1.5.0",
      "_model_name": "HTMLModel",
      "_view_count": null,
      "_view_module": "@jupyter-widgets/controls",
      "_view_module_version": "1.5.0",
      "_view_name": "HTMLView",
      "description": "",
      "description_tooltip": null,
      "layout": "IPY_MODEL_3acb6cf8ae9e4a42815bb0f525ee29ab",
      "placeholder": "​",
      "style": "IPY_MODEL_37bd97f4736843a99299a22bcb221a3e",
      "value": " 7/7 [00:00&lt;00:00,  9.50it/s]"
     }
    },
    "7c3c9f1817bd427787a3535e41e07898": {
     "model_module": "@jupyter-widgets/controls",
     "model_module_version": "1.5.0",
     "model_name": "DescriptionStyleModel",
     "state": {
      "_model_module": "@jupyter-widgets/controls",
      "_model_module_version": "1.5.0",
      "_model_name": "DescriptionStyleModel",
      "_view_count": null,
      "_view_module": "@jupyter-widgets/base",
      "_view_module_version": "1.2.0",
      "_view_name": "StyleView",
      "description_width": ""
     }
    },
    "7f0940f1a3d1467e849c84be36fe5184": {
     "model_module": "@jupyter-widgets/controls",
     "model_module_version": "1.5.0",
     "model_name": "DescriptionStyleModel",
     "state": {
      "_model_module": "@jupyter-widgets/controls",
      "_model_module_version": "1.5.0",
      "_model_name": "DescriptionStyleModel",
      "_view_count": null,
      "_view_module": "@jupyter-widgets/base",
      "_view_module_version": "1.2.0",
      "_view_name": "StyleView",
      "description_width": ""
     }
    },
    "8043cc62486846868b76332a06e9cea9": {
     "model_module": "@jupyter-widgets/base",
     "model_module_version": "1.2.0",
     "model_name": "LayoutModel",
     "state": {
      "_model_module": "@jupyter-widgets/base",
      "_model_module_version": "1.2.0",
      "_model_name": "LayoutModel",
      "_view_count": null,
      "_view_module": "@jupyter-widgets/base",
      "_view_module_version": "1.2.0",
      "_view_name": "LayoutView",
      "align_content": null,
      "align_items": null,
      "align_self": null,
      "border": null,
      "bottom": null,
      "display": null,
      "flex": null,
      "flex_flow": null,
      "grid_area": null,
      "grid_auto_columns": null,
      "grid_auto_flow": null,
      "grid_auto_rows": null,
      "grid_column": null,
      "grid_gap": null,
      "grid_row": null,
      "grid_template_areas": null,
      "grid_template_columns": null,
      "grid_template_rows": null,
      "height": null,
      "justify_content": null,
      "justify_items": null,
      "left": null,
      "margin": null,
      "max_height": null,
      "max_width": null,
      "min_height": null,
      "min_width": null,
      "object_fit": null,
      "object_position": null,
      "order": null,
      "overflow": null,
      "overflow_x": null,
      "overflow_y": null,
      "padding": null,
      "right": null,
      "top": null,
      "visibility": null,
      "width": null
     }
    },
    "82e82654358847389aaca1d53eed86fb": {
     "model_module": "@jupyter-widgets/base",
     "model_module_version": "1.2.0",
     "model_name": "LayoutModel",
     "state": {
      "_model_module": "@jupyter-widgets/base",
      "_model_module_version": "1.2.0",
      "_model_name": "LayoutModel",
      "_view_count": null,
      "_view_module": "@jupyter-widgets/base",
      "_view_module_version": "1.2.0",
      "_view_name": "LayoutView",
      "align_content": null,
      "align_items": null,
      "align_self": null,
      "border": null,
      "bottom": null,
      "display": null,
      "flex": null,
      "flex_flow": null,
      "grid_area": null,
      "grid_auto_columns": null,
      "grid_auto_flow": null,
      "grid_auto_rows": null,
      "grid_column": null,
      "grid_gap": null,
      "grid_row": null,
      "grid_template_areas": null,
      "grid_template_columns": null,
      "grid_template_rows": null,
      "height": null,
      "justify_content": null,
      "justify_items": null,
      "left": null,
      "margin": null,
      "max_height": null,
      "max_width": null,
      "min_height": null,
      "min_width": null,
      "object_fit": null,
      "object_position": null,
      "order": null,
      "overflow": null,
      "overflow_x": null,
      "overflow_y": null,
      "padding": null,
      "right": null,
      "top": null,
      "visibility": null,
      "width": null
     }
    },
    "8a4b8d6bbf9b46dcb76f1c67255ab684": {
     "model_module": "@jupyter-widgets/controls",
     "model_module_version": "1.5.0",
     "model_name": "HTMLModel",
     "state": {
      "_dom_classes": [],
      "_model_module": "@jupyter-widgets/controls",
      "_model_module_version": "1.5.0",
      "_model_name": "HTMLModel",
      "_view_count": null,
      "_view_module": "@jupyter-widgets/controls",
      "_view_module_version": "1.5.0",
      "_view_name": "HTMLView",
      "description": "",
      "description_tooltip": null,
      "layout": "IPY_MODEL_6825fbbc4aed4e5ca6890aa33c8bd507",
      "placeholder": "​",
      "style": "IPY_MODEL_7ae2766218f64c3a8576f41afb8559de",
      "value": " 1/1 [00:00&lt;00:00,  7.05it/s]"
     }
    },
    "8b3b20d5b5244a149db41aa015ea4aa1": {
     "model_module": "@jupyter-widgets/controls",
     "model_module_version": "1.5.0",
     "model_name": "HTMLModel",
     "state": {
      "_dom_classes": [],
      "_model_module": "@jupyter-widgets/controls",
      "_model_module_version": "1.5.0",
      "_model_name": "HTMLModel",
      "_view_count": null,
      "_view_module": "@jupyter-widgets/controls",
      "_view_module_version": "1.5.0",
      "_view_name": "HTMLView",
      "description": "",
      "description_tooltip": null,
      "layout": "IPY_MODEL_dc752e2726d645e4ad2668a808432718",
      "placeholder": "​",
      "style": "IPY_MODEL_4ed1203339734553b34a0ff4c761c562",
      "value": "Downloading (…)lve/main/config.json: 100%"
     }
    },
    "8d4b9ab3903f4cac84c5c09e62c7de24": {
     "model_module": "@jupyter-widgets/controls",
     "model_module_version": "1.5.0",
     "model_name": "DescriptionStyleModel",
     "state": {
      "_model_module": "@jupyter-widgets/controls",
      "_model_module_version": "1.5.0",
      "_model_name": "DescriptionStyleModel",
      "_view_count": null,
      "_view_module": "@jupyter-widgets/base",
      "_view_module_version": "1.2.0",
      "_view_name": "StyleView",
      "description_width": ""
     }
    },
    "9132c47bab90426ca2706b9af0361a9a": {
     "model_module": "@jupyter-widgets/controls",
     "model_module_version": "1.5.0",
     "model_name": "HTMLModel",
     "state": {
      "_dom_classes": [],
      "_model_module": "@jupyter-widgets/controls",
      "_model_module_version": "1.5.0",
      "_model_name": "HTMLModel",
      "_view_count": null,
      "_view_module": "@jupyter-widgets/controls",
      "_view_module_version": "1.5.0",
      "_view_name": "HTMLView",
      "description": "",
      "description_tooltip": null,
      "layout": "IPY_MODEL_82e82654358847389aaca1d53eed86fb",
      "placeholder": "​",
      "style": "IPY_MODEL_8d4b9ab3903f4cac84c5c09e62c7de24",
      "value": "Downloading (…)okenizer_config.json: 100%"
     }
    },
    "9141118b200e4e64b093ce7bc637c8ef": {
     "model_module": "@jupyter-widgets/controls",
     "model_module_version": "1.5.0",
     "model_name": "HTMLModel",
     "state": {
      "_dom_classes": [],
      "_model_module": "@jupyter-widgets/controls",
      "_model_module_version": "1.5.0",
      "_model_name": "HTMLModel",
      "_view_count": null,
      "_view_module": "@jupyter-widgets/controls",
      "_view_module_version": "1.5.0",
      "_view_name": "HTMLView",
      "description": "",
      "description_tooltip": null,
      "layout": "IPY_MODEL_24de9df4b4ce4f57ac2f6b953f2e645a",
      "placeholder": "​",
      "style": "IPY_MODEL_b4cb66f22af24b2394a80fdbe0d0543f",
      "value": " 268M/268M [00:01&lt;00:00, 191MB/s]"
     }
    },
    "92c464a25eb149cd8b35616d691203ce": {
     "model_module": "@jupyter-widgets/base",
     "model_module_version": "1.2.0",
     "model_name": "LayoutModel",
     "state": {
      "_model_module": "@jupyter-widgets/base",
      "_model_module_version": "1.2.0",
      "_model_name": "LayoutModel",
      "_view_count": null,
      "_view_module": "@jupyter-widgets/base",
      "_view_module_version": "1.2.0",
      "_view_name": "LayoutView",
      "align_content": null,
      "align_items": null,
      "align_self": null,
      "border": null,
      "bottom": null,
      "display": null,
      "flex": "2",
      "flex_flow": null,
      "grid_area": null,
      "grid_auto_columns": null,
      "grid_auto_flow": null,
      "grid_auto_rows": null,
      "grid_column": null,
      "grid_gap": null,
      "grid_row": null,
      "grid_template_areas": null,
      "grid_template_columns": null,
      "grid_template_rows": null,
      "height": null,
      "justify_content": null,
      "justify_items": null,
      "left": null,
      "margin": null,
      "max_height": null,
      "max_width": null,
      "min_height": null,
      "min_width": null,
      "object_fit": null,
      "object_position": null,
      "order": null,
      "overflow": null,
      "overflow_x": null,
      "overflow_y": null,
      "padding": null,
      "right": null,
      "top": null,
      "visibility": null,
      "width": null
     }
    },
    "9499138245bc4c869d39e7cd151de971": {
     "model_module": "@jupyter-widgets/base",
     "model_module_version": "1.2.0",
     "model_name": "LayoutModel",
     "state": {
      "_model_module": "@jupyter-widgets/base",
      "_model_module_version": "1.2.0",
      "_model_name": "LayoutModel",
      "_view_count": null,
      "_view_module": "@jupyter-widgets/base",
      "_view_module_version": "1.2.0",
      "_view_name": "LayoutView",
      "align_content": null,
      "align_items": null,
      "align_self": null,
      "border": null,
      "bottom": null,
      "display": null,
      "flex": "2",
      "flex_flow": null,
      "grid_area": null,
      "grid_auto_columns": null,
      "grid_auto_flow": null,
      "grid_auto_rows": null,
      "grid_column": null,
      "grid_gap": null,
      "grid_row": null,
      "grid_template_areas": null,
      "grid_template_columns": null,
      "grid_template_rows": null,
      "height": null,
      "justify_content": null,
      "justify_items": null,
      "left": null,
      "margin": null,
      "max_height": null,
      "max_width": null,
      "min_height": null,
      "min_width": null,
      "object_fit": null,
      "object_position": null,
      "order": null,
      "overflow": null,
      "overflow_x": null,
      "overflow_y": null,
      "padding": null,
      "right": null,
      "top": null,
      "visibility": null,
      "width": null
     }
    },
    "94f358df462042c49558627f00297c8f": {
     "model_module": "@jupyter-widgets/controls",
     "model_module_version": "1.5.0",
     "model_name": "HBoxModel",
     "state": {
      "_dom_classes": [],
      "_model_module": "@jupyter-widgets/controls",
      "_model_module_version": "1.5.0",
      "_model_name": "HBoxModel",
      "_view_count": null,
      "_view_module": "@jupyter-widgets/controls",
      "_view_module_version": "1.5.0",
      "_view_name": "HBoxView",
      "box_style": "",
      "children": [
       "IPY_MODEL_8b3b20d5b5244a149db41aa015ea4aa1",
       "IPY_MODEL_eeb21463c4d94a03b0cfb865e6ff2bc6",
       "IPY_MODEL_b907eb2620a548bc8f4340ac26562887"
      ],
      "layout": "IPY_MODEL_e12c0e47c8794c52a62c1f1515816ff6"
     }
    },
    "978725dfd9ef4768b93a26edfd54a9a8": {
     "model_module": "@jupyter-widgets/controls",
     "model_module_version": "1.5.0",
     "model_name": "FloatProgressModel",
     "state": {
      "_dom_classes": [],
      "_model_module": "@jupyter-widgets/controls",
      "_model_module_version": "1.5.0",
      "_model_name": "FloatProgressModel",
      "_view_count": null,
      "_view_module": "@jupyter-widgets/controls",
      "_view_module_version": "1.5.0",
      "_view_name": "ProgressView",
      "bar_style": "success",
      "description": "",
      "description_tooltip": null,
      "layout": "IPY_MODEL_1e7db19422c64915a607cb5ef8b10df7",
      "max": 28,
      "min": 0,
      "orientation": "horizontal",
      "style": "IPY_MODEL_0573582fb34a41d0b9c6898d47f2f061",
      "value": 28
     }
    },
    "97c1a24c494b460c8b24a8e67120e7af": {
     "model_module": "@jupyter-widgets/base",
     "model_module_version": "1.2.0",
     "model_name": "LayoutModel",
     "state": {
      "_model_module": "@jupyter-widgets/base",
      "_model_module_version": "1.2.0",
      "_model_name": "LayoutModel",
      "_view_count": null,
      "_view_module": "@jupyter-widgets/base",
      "_view_module_version": "1.2.0",
      "_view_name": "LayoutView",
      "align_content": null,
      "align_items": null,
      "align_self": null,
      "border": null,
      "bottom": null,
      "display": null,
      "flex": null,
      "flex_flow": null,
      "grid_area": null,
      "grid_auto_columns": null,
      "grid_auto_flow": null,
      "grid_auto_rows": null,
      "grid_column": null,
      "grid_gap": null,
      "grid_row": null,
      "grid_template_areas": null,
      "grid_template_columns": null,
      "grid_template_rows": null,
      "height": null,
      "justify_content": null,
      "justify_items": null,
      "left": null,
      "margin": null,
      "max_height": null,
      "max_width": null,
      "min_height": null,
      "min_width": null,
      "object_fit": null,
      "object_position": null,
      "order": null,
      "overflow": null,
      "overflow_x": null,
      "overflow_y": null,
      "padding": null,
      "right": null,
      "top": null,
      "visibility": null,
      "width": null
     }
    },
    "9976a164252f422e8292af731c9d665c": {
     "model_module": "@jupyter-widgets/controls",
     "model_module_version": "1.5.0",
     "model_name": "ProgressStyleModel",
     "state": {
      "_model_module": "@jupyter-widgets/controls",
      "_model_module_version": "1.5.0",
      "_model_name": "ProgressStyleModel",
      "_view_count": null,
      "_view_module": "@jupyter-widgets/base",
      "_view_module_version": "1.2.0",
      "_view_name": "StyleView",
      "bar_color": null,
      "description_width": ""
     }
    },
    "9ba47e78411344a0856b37e7a608f409": {
     "model_module": "@jupyter-widgets/controls",
     "model_module_version": "1.5.0",
     "model_name": "FloatProgressModel",
     "state": {
      "_dom_classes": [],
      "_model_module": "@jupyter-widgets/controls",
      "_model_module_version": "1.5.0",
      "_model_name": "FloatProgressModel",
      "_view_count": null,
      "_view_module": "@jupyter-widgets/controls",
      "_view_module_version": "1.5.0",
      "_view_name": "ProgressView",
      "bar_style": "success",
      "description": "",
      "description_tooltip": null,
      "layout": "IPY_MODEL_6897fbc5e86b4ebe966a2ceabd8ee2f8",
      "max": 7,
      "min": 0,
      "orientation": "horizontal",
      "style": "IPY_MODEL_1841012e97084302937ea97ba7ae9798",
      "value": 7
     }
    },
    "a5135e2502d94ef4940a792ac2a460f6": {
     "model_module": "@jupyter-widgets/controls",
     "model_module_version": "1.5.0",
     "model_name": "HTMLModel",
     "state": {
      "_dom_classes": [],
      "_model_module": "@jupyter-widgets/controls",
      "_model_module_version": "1.5.0",
      "_model_name": "HTMLModel",
      "_view_count": null,
      "_view_module": "@jupyter-widgets/controls",
      "_view_module_version": "1.5.0",
      "_view_name": "HTMLView",
      "description": "",
      "description_tooltip": null,
      "layout": "IPY_MODEL_8043cc62486846868b76332a06e9cea9",
      "placeholder": "​",
      "style": "IPY_MODEL_22bfe5fc6d6247b9ba2d56c1d19542bb",
      "value": "Testing DataLoader 0: 100%"
     }
    },
    "afae9e1bb7ac472ca7fdd266a893fc2d": {
     "model_module": "@jupyter-widgets/base",
     "model_module_version": "1.2.0",
     "model_name": "LayoutModel",
     "state": {
      "_model_module": "@jupyter-widgets/base",
      "_model_module_version": "1.2.0",
      "_model_name": "LayoutModel",
      "_view_count": null,
      "_view_module": "@jupyter-widgets/base",
      "_view_module_version": "1.2.0",
      "_view_name": "LayoutView",
      "align_content": null,
      "align_items": null,
      "align_self": null,
      "border": null,
      "bottom": null,
      "display": null,
      "flex": null,
      "flex_flow": null,
      "grid_area": null,
      "grid_auto_columns": null,
      "grid_auto_flow": null,
      "grid_auto_rows": null,
      "grid_column": null,
      "grid_gap": null,
      "grid_row": null,
      "grid_template_areas": null,
      "grid_template_columns": null,
      "grid_template_rows": null,
      "height": null,
      "justify_content": null,
      "justify_items": null,
      "left": null,
      "margin": null,
      "max_height": null,
      "max_width": null,
      "min_height": null,
      "min_width": null,
      "object_fit": null,
      "object_position": null,
      "order": null,
      "overflow": null,
      "overflow_x": null,
      "overflow_y": null,
      "padding": null,
      "right": null,
      "top": null,
      "visibility": null,
      "width": null
     }
    },
    "b0c263a961da4dc69be1f4238d3f73d9": {
     "model_module": "@jupyter-widgets/controls",
     "model_module_version": "1.5.0",
     "model_name": "FloatProgressModel",
     "state": {
      "_dom_classes": [],
      "_model_module": "@jupyter-widgets/controls",
      "_model_module_version": "1.5.0",
      "_model_name": "FloatProgressModel",
      "_view_count": null,
      "_view_module": "@jupyter-widgets/controls",
      "_view_module_version": "1.5.0",
      "_view_name": "ProgressView",
      "bar_style": "success",
      "description": "",
      "description_tooltip": null,
      "layout": "IPY_MODEL_97c1a24c494b460c8b24a8e67120e7af",
      "max": 466062,
      "min": 0,
      "orientation": "horizontal",
      "style": "IPY_MODEL_25bbd5b86de547bb83e7b984d458f133",
      "value": 466062
     }
    },
    "b4cb66f22af24b2394a80fdbe0d0543f": {
     "model_module": "@jupyter-widgets/controls",
     "model_module_version": "1.5.0",
     "model_name": "DescriptionStyleModel",
     "state": {
      "_model_module": "@jupyter-widgets/controls",
      "_model_module_version": "1.5.0",
      "_model_name": "DescriptionStyleModel",
      "_view_count": null,
      "_view_module": "@jupyter-widgets/base",
      "_view_module_version": "1.2.0",
      "_view_name": "StyleView",
      "description_width": ""
     }
    },
    "b792527c72584b25b7bbaf84e02dd5cb": {
     "model_module": "@jupyter-widgets/controls",
     "model_module_version": "1.5.0",
     "model_name": "HBoxModel",
     "state": {
      "_dom_classes": [],
      "_model_module": "@jupyter-widgets/controls",
      "_model_module_version": "1.5.0",
      "_model_name": "HBoxModel",
      "_view_count": null,
      "_view_module": "@jupyter-widgets/controls",
      "_view_module_version": "1.5.0",
      "_view_name": "HBoxView",
      "box_style": "",
      "children": [
       "IPY_MODEL_9132c47bab90426ca2706b9af0361a9a",
       "IPY_MODEL_978725dfd9ef4768b93a26edfd54a9a8",
       "IPY_MODEL_c445af39f2814a559ce90f4ab7f4b7e6"
      ],
      "layout": "IPY_MODEL_7613b0a9743d4969a5ab44880a0d3dc9"
     }
    },
    "b8a8939540eb4f49965286f5797639a1": {
     "model_module": "@jupyter-widgets/controls",
     "model_module_version": "1.5.0",
     "model_name": "HBoxModel",
     "state": {
      "_dom_classes": [],
      "_model_module": "@jupyter-widgets/controls",
      "_model_module_version": "1.5.0",
      "_model_name": "HBoxModel",
      "_view_count": null,
      "_view_module": "@jupyter-widgets/controls",
      "_view_module_version": "1.5.0",
      "_view_name": "HBoxView",
      "box_style": "",
      "children": [
       "IPY_MODEL_a5135e2502d94ef4940a792ac2a460f6",
       "IPY_MODEL_9ba47e78411344a0856b37e7a608f409",
       "IPY_MODEL_7c311f72340347368fe490895b8e7f06"
      ],
      "layout": "IPY_MODEL_0238d0018f084da4ac124447374d7e29"
     }
    },
    "b907eb2620a548bc8f4340ac26562887": {
     "model_module": "@jupyter-widgets/controls",
     "model_module_version": "1.5.0",
     "model_name": "HTMLModel",
     "state": {
      "_dom_classes": [],
      "_model_module": "@jupyter-widgets/controls",
      "_model_module_version": "1.5.0",
      "_model_name": "HTMLModel",
      "_view_count": null,
      "_view_module": "@jupyter-widgets/controls",
      "_view_module_version": "1.5.0",
      "_view_name": "HTMLView",
      "description": "",
      "description_tooltip": null,
      "layout": "IPY_MODEL_33e9fbf30e8a48519e2110aaa6f9a1fb",
      "placeholder": "​",
      "style": "IPY_MODEL_26d2cfc4b922471c972862beb607d089",
      "value": " 483/483 [00:00&lt;00:00, 23.2kB/s]"
     }
    },
    "b94e0503d8ed4e95a40a2fc8b90f70e7": {
     "model_module": "@jupyter-widgets/base",
     "model_module_version": "1.2.0",
     "model_name": "LayoutModel",
     "state": {
      "_model_module": "@jupyter-widgets/base",
      "_model_module_version": "1.2.0",
      "_model_name": "LayoutModel",
      "_view_count": null,
      "_view_module": "@jupyter-widgets/base",
      "_view_module_version": "1.2.0",
      "_view_name": "LayoutView",
      "align_content": null,
      "align_items": null,
      "align_self": null,
      "border": null,
      "bottom": null,
      "display": null,
      "flex": null,
      "flex_flow": null,
      "grid_area": null,
      "grid_auto_columns": null,
      "grid_auto_flow": null,
      "grid_auto_rows": null,
      "grid_column": null,
      "grid_gap": null,
      "grid_row": null,
      "grid_template_areas": null,
      "grid_template_columns": null,
      "grid_template_rows": null,
      "height": null,
      "justify_content": null,
      "justify_items": null,
      "left": null,
      "margin": null,
      "max_height": null,
      "max_width": null,
      "min_height": null,
      "min_width": null,
      "object_fit": null,
      "object_position": null,
      "order": null,
      "overflow": null,
      "overflow_x": null,
      "overflow_y": null,
      "padding": null,
      "right": null,
      "top": null,
      "visibility": null,
      "width": null
     }
    },
    "bb0dbf73cf844ba581e9f3f2b55549f5": {
     "model_module": "@jupyter-widgets/base",
     "model_module_version": "1.2.0",
     "model_name": "LayoutModel",
     "state": {
      "_model_module": "@jupyter-widgets/base",
      "_model_module_version": "1.2.0",
      "_model_name": "LayoutModel",
      "_view_count": null,
      "_view_module": "@jupyter-widgets/base",
      "_view_module_version": "1.2.0",
      "_view_name": "LayoutView",
      "align_content": null,
      "align_items": null,
      "align_self": null,
      "border": null,
      "bottom": null,
      "display": null,
      "flex": null,
      "flex_flow": null,
      "grid_area": null,
      "grid_auto_columns": null,
      "grid_auto_flow": null,
      "grid_auto_rows": null,
      "grid_column": null,
      "grid_gap": null,
      "grid_row": null,
      "grid_template_areas": null,
      "grid_template_columns": null,
      "grid_template_rows": null,
      "height": null,
      "justify_content": null,
      "justify_items": null,
      "left": null,
      "margin": null,
      "max_height": null,
      "max_width": null,
      "min_height": null,
      "min_width": null,
      "object_fit": null,
      "object_position": null,
      "order": null,
      "overflow": null,
      "overflow_x": null,
      "overflow_y": null,
      "padding": null,
      "right": null,
      "top": null,
      "visibility": null,
      "width": null
     }
    },
    "bf7e2deadf0647209e481f6f7f7988ee": {
     "model_module": "@jupyter-widgets/controls",
     "model_module_version": "1.5.0",
     "model_name": "HTMLModel",
     "state": {
      "_dom_classes": [],
      "_model_module": "@jupyter-widgets/controls",
      "_model_module_version": "1.5.0",
      "_model_name": "HTMLModel",
      "_view_count": null,
      "_view_module": "@jupyter-widgets/controls",
      "_view_module_version": "1.5.0",
      "_view_name": "HTMLView",
      "description": "",
      "description_tooltip": null,
      "layout": "IPY_MODEL_1474e40ab48b4e50bff66a0913173039",
      "placeholder": "​",
      "style": "IPY_MODEL_f28be84574ff423889e2095a67419b10",
      "value": "Downloading (…)/main/tokenizer.json: 100%"
     }
    },
    "c3c0890000a14ebcba7b55840677fd95": {
     "model_module": "@jupyter-widgets/base",
     "model_module_version": "1.2.0",
     "model_name": "LayoutModel",
     "state": {
      "_model_module": "@jupyter-widgets/base",
      "_model_module_version": "1.2.0",
      "_model_name": "LayoutModel",
      "_view_count": null,
      "_view_module": "@jupyter-widgets/base",
      "_view_module_version": "1.2.0",
      "_view_name": "LayoutView",
      "align_content": null,
      "align_items": null,
      "align_self": null,
      "border": null,
      "bottom": null,
      "display": "inline-flex",
      "flex": null,
      "flex_flow": "row wrap",
      "grid_area": null,
      "grid_auto_columns": null,
      "grid_auto_flow": null,
      "grid_auto_rows": null,
      "grid_column": null,
      "grid_gap": null,
      "grid_row": null,
      "grid_template_areas": null,
      "grid_template_columns": null,
      "grid_template_rows": null,
      "height": null,
      "justify_content": null,
      "justify_items": null,
      "left": null,
      "margin": null,
      "max_height": null,
      "max_width": null,
      "min_height": null,
      "min_width": null,
      "object_fit": null,
      "object_position": null,
      "order": null,
      "overflow": null,
      "overflow_x": null,
      "overflow_y": null,
      "padding": null,
      "right": null,
      "top": null,
      "visibility": null,
      "width": "100%"
     }
    },
    "c445af39f2814a559ce90f4ab7f4b7e6": {
     "model_module": "@jupyter-widgets/controls",
     "model_module_version": "1.5.0",
     "model_name": "HTMLModel",
     "state": {
      "_dom_classes": [],
      "_model_module": "@jupyter-widgets/controls",
      "_model_module_version": "1.5.0",
      "_model_name": "HTMLModel",
      "_view_count": null,
      "_view_module": "@jupyter-widgets/controls",
      "_view_module_version": "1.5.0",
      "_view_name": "HTMLView",
      "description": "",
      "description_tooltip": null,
      "layout": "IPY_MODEL_afae9e1bb7ac472ca7fdd266a893fc2d",
      "placeholder": "​",
      "style": "IPY_MODEL_d2484143ae0c4aaa8c14682cd0584a8c",
      "value": " 28.0/28.0 [00:00&lt;00:00, 943B/s]"
     }
    },
    "cba5a8936e854b05b3e651316779dab4": {
     "model_module": "@jupyter-widgets/controls",
     "model_module_version": "1.5.0",
     "model_name": "HTMLModel",
     "state": {
      "_dom_classes": [],
      "_model_module": "@jupyter-widgets/controls",
      "_model_module_version": "1.5.0",
      "_model_name": "HTMLModel",
      "_view_count": null,
      "_view_module": "@jupyter-widgets/controls",
      "_view_module_version": "1.5.0",
      "_view_name": "HTMLView",
      "description": "",
      "description_tooltip": null,
      "layout": "IPY_MODEL_4f73d68cb4dc457e8daeef9727a4a68a",
      "placeholder": "​",
      "style": "IPY_MODEL_748c5d8d4aa44a52bd356ee9c524edd1",
      "value": " 7/7 [00:00&lt;00:00,  7.59it/s]"
     }
    },
    "cd625af8b5284dfca08537be174a8154": {
     "model_module": "@jupyter-widgets/controls",
     "model_module_version": "1.5.0",
     "model_name": "DescriptionStyleModel",
     "state": {
      "_model_module": "@jupyter-widgets/controls",
      "_model_module_version": "1.5.0",
      "_model_name": "DescriptionStyleModel",
      "_view_count": null,
      "_view_module": "@jupyter-widgets/base",
      "_view_module_version": "1.2.0",
      "_view_name": "StyleView",
      "description_width": ""
     }
    },
    "cfa0a2fb47bb4228a2a6a8a000494976": {
     "model_module": "@jupyter-widgets/base",
     "model_module_version": "1.2.0",
     "model_name": "LayoutModel",
     "state": {
      "_model_module": "@jupyter-widgets/base",
      "_model_module_version": "1.2.0",
      "_model_name": "LayoutModel",
      "_view_count": null,
      "_view_module": "@jupyter-widgets/base",
      "_view_module_version": "1.2.0",
      "_view_name": "LayoutView",
      "align_content": null,
      "align_items": null,
      "align_self": null,
      "border": null,
      "bottom": null,
      "display": null,
      "flex": null,
      "flex_flow": null,
      "grid_area": null,
      "grid_auto_columns": null,
      "grid_auto_flow": null,
      "grid_auto_rows": null,
      "grid_column": null,
      "grid_gap": null,
      "grid_row": null,
      "grid_template_areas": null,
      "grid_template_columns": null,
      "grid_template_rows": null,
      "height": null,
      "justify_content": null,
      "justify_items": null,
      "left": null,
      "margin": null,
      "max_height": null,
      "max_width": null,
      "min_height": null,
      "min_width": null,
      "object_fit": null,
      "object_position": null,
      "order": null,
      "overflow": null,
      "overflow_x": null,
      "overflow_y": null,
      "padding": null,
      "right": null,
      "top": null,
      "visibility": null,
      "width": null
     }
    },
    "d009871688f043fd8a5ed62b8066fbbe": {
     "model_module": "@jupyter-widgets/controls",
     "model_module_version": "1.5.0",
     "model_name": "DescriptionStyleModel",
     "state": {
      "_model_module": "@jupyter-widgets/controls",
      "_model_module_version": "1.5.0",
      "_model_name": "DescriptionStyleModel",
      "_view_count": null,
      "_view_module": "@jupyter-widgets/base",
      "_view_module_version": "1.2.0",
      "_view_name": "StyleView",
      "description_width": ""
     }
    },
    "d1c62c1e75084848b9bac889076268fb": {
     "model_module": "@jupyter-widgets/base",
     "model_module_version": "1.2.0",
     "model_name": "LayoutModel",
     "state": {
      "_model_module": "@jupyter-widgets/base",
      "_model_module_version": "1.2.0",
      "_model_name": "LayoutModel",
      "_view_count": null,
      "_view_module": "@jupyter-widgets/base",
      "_view_module_version": "1.2.0",
      "_view_name": "LayoutView",
      "align_content": null,
      "align_items": null,
      "align_self": null,
      "border": null,
      "bottom": null,
      "display": null,
      "flex": null,
      "flex_flow": null,
      "grid_area": null,
      "grid_auto_columns": null,
      "grid_auto_flow": null,
      "grid_auto_rows": null,
      "grid_column": null,
      "grid_gap": null,
      "grid_row": null,
      "grid_template_areas": null,
      "grid_template_columns": null,
      "grid_template_rows": null,
      "height": null,
      "justify_content": null,
      "justify_items": null,
      "left": null,
      "margin": null,
      "max_height": null,
      "max_width": null,
      "min_height": null,
      "min_width": null,
      "object_fit": null,
      "object_position": null,
      "order": null,
      "overflow": null,
      "overflow_x": null,
      "overflow_y": null,
      "padding": null,
      "right": null,
      "top": null,
      "visibility": null,
      "width": null
     }
    },
    "d2484143ae0c4aaa8c14682cd0584a8c": {
     "model_module": "@jupyter-widgets/controls",
     "model_module_version": "1.5.0",
     "model_name": "DescriptionStyleModel",
     "state": {
      "_model_module": "@jupyter-widgets/controls",
      "_model_module_version": "1.5.0",
      "_model_name": "DescriptionStyleModel",
      "_view_count": null,
      "_view_module": "@jupyter-widgets/base",
      "_view_module_version": "1.2.0",
      "_view_name": "StyleView",
      "description_width": ""
     }
    },
    "d534e5bce2d34620a19e651728509f83": {
     "model_module": "@jupyter-widgets/controls",
     "model_module_version": "1.5.0",
     "model_name": "DescriptionStyleModel",
     "state": {
      "_model_module": "@jupyter-widgets/controls",
      "_model_module_version": "1.5.0",
      "_model_name": "DescriptionStyleModel",
      "_view_count": null,
      "_view_module": "@jupyter-widgets/base",
      "_view_module_version": "1.2.0",
      "_view_name": "StyleView",
      "description_width": ""
     }
    },
    "db190a1343604f9da48ed499987dbd18": {
     "model_module": "@jupyter-widgets/base",
     "model_module_version": "1.2.0",
     "model_name": "LayoutModel",
     "state": {
      "_model_module": "@jupyter-widgets/base",
      "_model_module_version": "1.2.0",
      "_model_name": "LayoutModel",
      "_view_count": null,
      "_view_module": "@jupyter-widgets/base",
      "_view_module_version": "1.2.0",
      "_view_name": "LayoutView",
      "align_content": null,
      "align_items": null,
      "align_self": null,
      "border": null,
      "bottom": null,
      "display": null,
      "flex": null,
      "flex_flow": null,
      "grid_area": null,
      "grid_auto_columns": null,
      "grid_auto_flow": null,
      "grid_auto_rows": null,
      "grid_column": null,
      "grid_gap": null,
      "grid_row": null,
      "grid_template_areas": null,
      "grid_template_columns": null,
      "grid_template_rows": null,
      "height": null,
      "justify_content": null,
      "justify_items": null,
      "left": null,
      "margin": null,
      "max_height": null,
      "max_width": null,
      "min_height": null,
      "min_width": null,
      "object_fit": null,
      "object_position": null,
      "order": null,
      "overflow": null,
      "overflow_x": null,
      "overflow_y": null,
      "padding": null,
      "right": null,
      "top": null,
      "visibility": null,
      "width": null
     }
    },
    "dc752e2726d645e4ad2668a808432718": {
     "model_module": "@jupyter-widgets/base",
     "model_module_version": "1.2.0",
     "model_name": "LayoutModel",
     "state": {
      "_model_module": "@jupyter-widgets/base",
      "_model_module_version": "1.2.0",
      "_model_name": "LayoutModel",
      "_view_count": null,
      "_view_module": "@jupyter-widgets/base",
      "_view_module_version": "1.2.0",
      "_view_name": "LayoutView",
      "align_content": null,
      "align_items": null,
      "align_self": null,
      "border": null,
      "bottom": null,
      "display": null,
      "flex": null,
      "flex_flow": null,
      "grid_area": null,
      "grid_auto_columns": null,
      "grid_auto_flow": null,
      "grid_auto_rows": null,
      "grid_column": null,
      "grid_gap": null,
      "grid_row": null,
      "grid_template_areas": null,
      "grid_template_columns": null,
      "grid_template_rows": null,
      "height": null,
      "justify_content": null,
      "justify_items": null,
      "left": null,
      "margin": null,
      "max_height": null,
      "max_width": null,
      "min_height": null,
      "min_width": null,
      "object_fit": null,
      "object_position": null,
      "order": null,
      "overflow": null,
      "overflow_x": null,
      "overflow_y": null,
      "padding": null,
      "right": null,
      "top": null,
      "visibility": null,
      "width": null
     }
    },
    "e12c0e47c8794c52a62c1f1515816ff6": {
     "model_module": "@jupyter-widgets/base",
     "model_module_version": "1.2.0",
     "model_name": "LayoutModel",
     "state": {
      "_model_module": "@jupyter-widgets/base",
      "_model_module_version": "1.2.0",
      "_model_name": "LayoutModel",
      "_view_count": null,
      "_view_module": "@jupyter-widgets/base",
      "_view_module_version": "1.2.0",
      "_view_name": "LayoutView",
      "align_content": null,
      "align_items": null,
      "align_self": null,
      "border": null,
      "bottom": null,
      "display": null,
      "flex": null,
      "flex_flow": null,
      "grid_area": null,
      "grid_auto_columns": null,
      "grid_auto_flow": null,
      "grid_auto_rows": null,
      "grid_column": null,
      "grid_gap": null,
      "grid_row": null,
      "grid_template_areas": null,
      "grid_template_columns": null,
      "grid_template_rows": null,
      "height": null,
      "justify_content": null,
      "justify_items": null,
      "left": null,
      "margin": null,
      "max_height": null,
      "max_width": null,
      "min_height": null,
      "min_width": null,
      "object_fit": null,
      "object_position": null,
      "order": null,
      "overflow": null,
      "overflow_x": null,
      "overflow_y": null,
      "padding": null,
      "right": null,
      "top": null,
      "visibility": null,
      "width": null
     }
    },
    "e2274410a4f54ef08084c3bdd5582f09": {
     "model_module": "@jupyter-widgets/controls",
     "model_module_version": "1.5.0",
     "model_name": "HBoxModel",
     "state": {
      "_dom_classes": [],
      "_model_module": "@jupyter-widgets/controls",
      "_model_module_version": "1.5.0",
      "_model_name": "HBoxModel",
      "_view_count": null,
      "_view_module": "@jupyter-widgets/controls",
      "_view_module_version": "1.5.0",
      "_view_name": "HBoxView",
      "box_style": "",
      "children": [
       "IPY_MODEL_22b8e7a6dbb848da8508b15e99109ecd",
       "IPY_MODEL_f3f22c31651346fb8ed44204cff8cf56",
       "IPY_MODEL_cba5a8936e854b05b3e651316779dab4"
      ],
      "layout": "IPY_MODEL_c3c0890000a14ebcba7b55840677fd95"
     }
    },
    "e2f9f50165504f238f4d709ad2f224e7": {
     "model_module": "@jupyter-widgets/controls",
     "model_module_version": "1.5.0",
     "model_name": "ProgressStyleModel",
     "state": {
      "_model_module": "@jupyter-widgets/controls",
      "_model_module_version": "1.5.0",
      "_model_name": "ProgressStyleModel",
      "_view_count": null,
      "_view_module": "@jupyter-widgets/base",
      "_view_module_version": "1.2.0",
      "_view_name": "StyleView",
      "bar_color": null,
      "description_width": ""
     }
    },
    "e4213efd16bc4b7da815e57630734cee": {
     "model_module": "@jupyter-widgets/base",
     "model_module_version": "1.2.0",
     "model_name": "LayoutModel",
     "state": {
      "_model_module": "@jupyter-widgets/base",
      "_model_module_version": "1.2.0",
      "_model_name": "LayoutModel",
      "_view_count": null,
      "_view_module": "@jupyter-widgets/base",
      "_view_module_version": "1.2.0",
      "_view_name": "LayoutView",
      "align_content": null,
      "align_items": null,
      "align_self": null,
      "border": null,
      "bottom": null,
      "display": "inline-flex",
      "flex": null,
      "flex_flow": "row wrap",
      "grid_area": null,
      "grid_auto_columns": null,
      "grid_auto_flow": null,
      "grid_auto_rows": null,
      "grid_column": null,
      "grid_gap": null,
      "grid_row": null,
      "grid_template_areas": null,
      "grid_template_columns": null,
      "grid_template_rows": null,
      "height": null,
      "justify_content": null,
      "justify_items": null,
      "left": null,
      "margin": null,
      "max_height": null,
      "max_width": null,
      "min_height": null,
      "min_width": null,
      "object_fit": null,
      "object_position": null,
      "order": null,
      "overflow": null,
      "overflow_x": null,
      "overflow_y": null,
      "padding": null,
      "right": null,
      "top": null,
      "visibility": "hidden",
      "width": "100%"
     }
    },
    "e42286c79df943a1b3d88031ee779e50": {
     "model_module": "@jupyter-widgets/controls",
     "model_module_version": "1.5.0",
     "model_name": "HTMLModel",
     "state": {
      "_dom_classes": [],
      "_model_module": "@jupyter-widgets/controls",
      "_model_module_version": "1.5.0",
      "_model_name": "HTMLModel",
      "_view_count": null,
      "_view_module": "@jupyter-widgets/controls",
      "_view_module_version": "1.5.0",
      "_view_name": "HTMLView",
      "description": "",
      "description_tooltip": null,
      "layout": "IPY_MODEL_7a567d45a67647189bfc4a0559eb5c09",
      "placeholder": "​",
      "style": "IPY_MODEL_7f0940f1a3d1467e849c84be36fe5184",
      "value": "Downloading pytorch_model.bin: 100%"
     }
    },
    "e810e543a49b4d08a232e6f39f3d7049": {
     "model_module": "@jupyter-widgets/controls",
     "model_module_version": "1.5.0",
     "model_name": "HBoxModel",
     "state": {
      "_dom_classes": [],
      "_model_module": "@jupyter-widgets/controls",
      "_model_module_version": "1.5.0",
      "_model_name": "HBoxModel",
      "_view_count": null,
      "_view_module": "@jupyter-widgets/controls",
      "_view_module_version": "1.5.0",
      "_view_name": "HBoxView",
      "box_style": "",
      "children": [
       "IPY_MODEL_e42286c79df943a1b3d88031ee779e50",
       "IPY_MODEL_2162395db0a149fcad421ea821985dd9",
       "IPY_MODEL_9141118b200e4e64b093ce7bc637c8ef"
      ],
      "layout": "IPY_MODEL_720ec0b006e14210b79290f884e389e7"
     }
    },
    "eeb21463c4d94a03b0cfb865e6ff2bc6": {
     "model_module": "@jupyter-widgets/controls",
     "model_module_version": "1.5.0",
     "model_name": "FloatProgressModel",
     "state": {
      "_dom_classes": [],
      "_model_module": "@jupyter-widgets/controls",
      "_model_module_version": "1.5.0",
      "_model_name": "FloatProgressModel",
      "_view_count": null,
      "_view_module": "@jupyter-widgets/controls",
      "_view_module_version": "1.5.0",
      "_view_name": "ProgressView",
      "bar_style": "success",
      "description": "",
      "description_tooltip": null,
      "layout": "IPY_MODEL_234a51a69b9640a5b9bc50b6e92a63e4",
      "max": 483,
      "min": 0,
      "orientation": "horizontal",
      "style": "IPY_MODEL_306c7674a76b44d49db89e9f9dd0f1ea",
      "value": 483
     }
    },
    "f1e19f4ed79743c1808566d7d59e6692": {
     "model_module": "@jupyter-widgets/base",
     "model_module_version": "1.2.0",
     "model_name": "LayoutModel",
     "state": {
      "_model_module": "@jupyter-widgets/base",
      "_model_module_version": "1.2.0",
      "_model_name": "LayoutModel",
      "_view_count": null,
      "_view_module": "@jupyter-widgets/base",
      "_view_module_version": "1.2.0",
      "_view_name": "LayoutView",
      "align_content": null,
      "align_items": null,
      "align_self": null,
      "border": null,
      "bottom": null,
      "display": null,
      "flex": null,
      "flex_flow": null,
      "grid_area": null,
      "grid_auto_columns": null,
      "grid_auto_flow": null,
      "grid_auto_rows": null,
      "grid_column": null,
      "grid_gap": null,
      "grid_row": null,
      "grid_template_areas": null,
      "grid_template_columns": null,
      "grid_template_rows": null,
      "height": null,
      "justify_content": null,
      "justify_items": null,
      "left": null,
      "margin": null,
      "max_height": null,
      "max_width": null,
      "min_height": null,
      "min_width": null,
      "object_fit": null,
      "object_position": null,
      "order": null,
      "overflow": null,
      "overflow_x": null,
      "overflow_y": null,
      "padding": null,
      "right": null,
      "top": null,
      "visibility": null,
      "width": null
     }
    },
    "f2074ecd55344fa5b8f0f48177e318cb": {
     "model_module": "@jupyter-widgets/controls",
     "model_module_version": "1.5.0",
     "model_name": "HBoxModel",
     "state": {
      "_dom_classes": [],
      "_model_module": "@jupyter-widgets/controls",
      "_model_module_version": "1.5.0",
      "_model_name": "HBoxModel",
      "_view_count": null,
      "_view_module": "@jupyter-widgets/controls",
      "_view_module_version": "1.5.0",
      "_view_name": "HBoxView",
      "box_style": "",
      "children": [
       "IPY_MODEL_4494dc219aaf458c95e6a068a917c674",
       "IPY_MODEL_0c1e91bac5b244628dd03b010898374b",
       "IPY_MODEL_061dc06c1f5742c594054bf3dcde4173"
      ],
      "layout": "IPY_MODEL_f1e19f4ed79743c1808566d7d59e6692"
     }
    },
    "f28be84574ff423889e2095a67419b10": {
     "model_module": "@jupyter-widgets/controls",
     "model_module_version": "1.5.0",
     "model_name": "DescriptionStyleModel",
     "state": {
      "_model_module": "@jupyter-widgets/controls",
      "_model_module_version": "1.5.0",
      "_model_name": "DescriptionStyleModel",
      "_view_count": null,
      "_view_module": "@jupyter-widgets/base",
      "_view_module_version": "1.2.0",
      "_view_name": "StyleView",
      "description_width": ""
     }
    },
    "f3f22c31651346fb8ed44204cff8cf56": {
     "model_module": "@jupyter-widgets/controls",
     "model_module_version": "1.5.0",
     "model_name": "FloatProgressModel",
     "state": {
      "_dom_classes": [],
      "_model_module": "@jupyter-widgets/controls",
      "_model_module_version": "1.5.0",
      "_model_name": "FloatProgressModel",
      "_view_count": null,
      "_view_module": "@jupyter-widgets/controls",
      "_view_module_version": "1.5.0",
      "_view_name": "ProgressView",
      "bar_style": "success",
      "description": "",
      "description_tooltip": null,
      "layout": "IPY_MODEL_9499138245bc4c869d39e7cd151de971",
      "max": 7,
      "min": 0,
      "orientation": "horizontal",
      "style": "IPY_MODEL_e2f9f50165504f238f4d709ad2f224e7",
      "value": 7
     }
    },
    "fe288d1b23294e46a7cd64f81b638547": {
     "model_module": "@jupyter-widgets/controls",
     "model_module_version": "1.5.0",
     "model_name": "ProgressStyleModel",
     "state": {
      "_model_module": "@jupyter-widgets/controls",
      "_model_module_version": "1.5.0",
      "_model_name": "ProgressStyleModel",
      "_view_count": null,
      "_view_module": "@jupyter-widgets/base",
      "_view_module_version": "1.2.0",
      "_view_name": "StyleView",
      "bar_color": null,
      "description_width": ""
     }
    }
   }
  }
 },
 "nbformat": 4,
 "nbformat_minor": 5
}
